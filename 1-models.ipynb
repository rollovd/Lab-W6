{
 "cells": [
  {
   "cell_type": "markdown",
   "metadata": {},
   "source": [
    "This is a tutorial notebook on object-oriented software design, prepared for the Foundations of Software Engineering (FSE v2020.1, https://github.com/adasegroup/FSE2020_seminars) at Skoltech (http://skoltech.ru).\n",
    "\n",
    "Copyright 2020 by Alexey Artemov and ADASE Lab. "
   ]
  },
  {
   "cell_type": "markdown",
   "metadata": {},
   "source": [
    "# FSE-08: Object-Oriented Software Design"
   ]
  },
  {
   "cell_type": "markdown",
   "metadata": {},
   "source": [
    "The purpose of this practical is to give an introduction into object-oriented software design. You will learn to:\n",
    " - Formulate real-world problems in object-oriented terms\n",
    " - Use Python classes to implement the designed models"
   ]
  },
  {
   "cell_type": "markdown",
   "metadata": {},
   "source": [
    "### Legend"
   ]
  },
  {
   "cell_type": "markdown",
   "metadata": {},
   "source": [
    "In these frightening times, it is of utmost importance to be able to model the spread of various viruses. Our government has hired your company to create a flexible computational model for the spread of the most dangerous viruses, the Virus Spread Modelling System VSMS-20.\n",
    "\n",
    "In this task, your goal is to design an implement models of these viruses:\n",
    "\n",
    " - Seasonal flu virus\n",
    " - SARS-CoV-2\n",
    " - Cholera \n",
    " \n",
    "The goal is to be able to perform simulations to assess efficiency of public policymaking aiming to save lives."
   ]
  },
  {
   "cell_type": "markdown",
   "metadata": {},
   "source": [
    "### **What do we need to model?**"
   ]
  },
  {
   "cell_type": "markdown",
   "metadata": {},
   "source": [
    "In this design, we need to model the following domain entities as objects:\n",
    " 1. Viruses and infections, responsible for infecting persons.\n",
    " 2. Persons, responsible for being infected, transmitting infections.\n",
    " 3. The Department of Health, responsible for healthcare policymaking.\n",
    " 4. Hospitals, responsible for treating persons and performing tests.\n",
    " \n",
    "We need to model the following processes:\n",
    " 1. Person getting infected by the virus.\n",
    " 2. Person going through a number of states (e.g. healthy - asymptomatic infected - symptomatic infected - recovered).\n",
    " 3. Person getting tested for a speficic type of virus.\n",
    " 4. Person getting hospitalized.\n",
    " 5. Hospital figuring out the treatment for a person based on tests.\n",
    " 6. Department of Health checking for the number of infections, as reported by positive tests.\n",
    " 7. Department of Health establishing a policy (e.g., social distancing, full/partial lockdown, or mandatory wearing masks).\n",
    "\n",
    "We assume the following environmental constraints:\n",
    " - Persons cannot be born during the course of the simulation (but may become dead)\n",
    " - Persons can only have 1 virus (but many antibodies)\n",
    " - Persons may or may not obey the policies of the government\n",
    " - The Department of Health does not penalize persons for not obeying the policies"
   ]
  },
  {
   "cell_type": "markdown",
   "metadata": {},
   "source": [
    "**The purpose of this part of the practical** is to figure out the preliminary design of such a system. "
   ]
  },
  {
   "cell_type": "markdown",
   "metadata": {},
   "source": [
    "---"
   ]
  },
  {
   "cell_type": "markdown",
   "metadata": {},
   "source": [
    "### 1. Model viruses/infections"
   ]
  },
  {
   "cell_type": "markdown",
   "metadata": {},
   "source": [
    "#### Task 1:"
   ]
  },
  {
   "cell_type": "markdown",
   "metadata": {},
   "source": [
    "Create class hierarchy for viruses/infections:\n",
    " 1. Define the abstract class `Infectable` with a method `cause_symptoms` and two fields:\n",
    "   - `strength`, i.e. the ability of the virus to cause more severe symptoms;\n",
    "   - `contagiousness`, i.e. the ability of the virus to transmit from person to person.\n",
    " 2. Derive three other classes `SeasonalFluVirus`, `SARSCoV2`, and `Cholera`, leaving the implementation empty for now."
   ]
  },
  {
   "cell_type": "markdown",
   "metadata": {},
   "source": [
    "<img src=\"images/Infectable Class.svg\">"
   ]
  },
  {
   "cell_type": "markdown",
   "metadata": {},
   "source": [
    "#### Solution to task 1:"
   ]
  },
  {
   "cell_type": "code",
   "execution_count": null,
   "metadata": {},
   "outputs": [],
   "source": [
    "# YOUR CODE HERE"
   ]
  },
  {
   "cell_type": "markdown",
   "metadata": {},
   "source": [
    "### 2. Model a person"
   ]
  },
  {
   "cell_type": "markdown",
   "metadata": {},
   "source": [
    "#### Task 2:"
   ]
  },
  {
   "cell_type": "markdown",
   "metadata": {},
   "source": [
    "Create a class hierarchy for persons:\n",
    " 1. Create an abstract class `Person` with the attributes shown in the diagram. Note that:\n",
    "   - When a person is healthy, they would execute common actions (e.g. go to work and from work), implemented via `day_actions`, `night_actions`, and `interact` with other people if they are `is_contacting`. This may result in a person `get_infected` by a infection.\n",
    "   - But when a person is sick, they use `fight_virus` and `progress_disease` to describe this situation. Additionally we provide `is_life_threatening_condition` and `is_life_incompatible_condition` to test if a person is in a critical situation.\n",
    " 2. Create derived classes `DefaultPerson` and `CommunityPerson`, overriding respective methods."
   ]
  },
  {
   "cell_type": "markdown",
   "metadata": {},
   "source": [
    "<img src=\"images/Person Class.svg\">"
   ]
  },
  {
   "cell_type": "markdown",
   "metadata": {},
   "source": [
    "#### Solution to Task 2:"
   ]
  },
  {
   "cell_type": "code",
   "execution_count": null,
   "metadata": {},
   "outputs": [],
   "source": [
    "# YOUR CODE HERE"
   ]
  },
  {
   "cell_type": "markdown",
   "metadata": {},
   "source": [
    "### 3. Model of a healthcare system and the global context"
   ]
  },
  {
   "cell_type": "markdown",
   "metadata": {},
   "source": [
    "#### Task 3:"
   ]
  },
  {
   "cell_type": "markdown",
   "metadata": {},
   "source": [
    "We restrict ourselves to only one country (no international flights, etc.). \n",
    "\n",
    "Create the model of the hospital, department of health, and global context:\n",
    " 1. `Hospital` hosts and treats patients.\n",
    " 2. `DepartmentOfHealth` monitors the epidemiological situation and can issue orders.\n",
    " 3. `GlobalContext` contains references to the world grid and a list of persons"
   ]
  },
  {
   "cell_type": "markdown",
   "metadata": {},
   "source": [
    "<img src=\"images/Hospital Class.svg\">"
   ]
  },
  {
   "cell_type": "markdown",
   "metadata": {},
   "source": [
    "#### Solution to task 3:"
   ]
  },
  {
   "cell_type": "code",
   "execution_count": null,
   "metadata": {},
   "outputs": [],
   "source": [
    "# YOUR CODE HERE"
   ]
  },
  {
   "cell_type": "code",
   "execution_count": null,
   "metadata": {},
   "outputs": [],
   "source": [
    "# YOUR CODE HERE"
   ]
  },
  {
   "cell_type": "code",
   "execution_count": null,
   "metadata": {},
   "outputs": [],
   "source": [
    "# YOUR CODE HERE"
   ]
  },
  {
   "cell_type": "markdown",
   "metadata": {},
   "source": [
    "### 5. Model the world"
   ]
  },
  {
   "cell_type": "markdown",
   "metadata": {},
   "source": [
    "The basic algorithm works on a daily basis.\n",
    " 1. The Department of Health counts positive/negative tests from yesterday, decides if they need to introduce the new policies/restrictions.\n",
    " 2. The hospitals treat patients, making new tests.\n",
    " 3. People do their daily activities and interact, possibly infecting each other."
   ]
  },
  {
   "cell_type": "code",
   "execution_count": null,
   "metadata": {},
   "outputs": [],
   "source": [
    "def simulate_day(context):\n",
    "    persons, health_dept, hospitals = context.persons, context.health_dept, context.health_dept.hospitals\n",
    "\n",
    "    health_dept.make_policy()\n",
    "    \n",
    "    for hospital in hospitals:\n",
    "        hospital.treat_patients()\n",
    "    \n",
    "    for person in persons:\n",
    "        person.day_actions()\n",
    "    \n",
    "    for person in persons:\n",
    "        for other in persons:\n",
    "            if person is not other and person.is_close_to(other):\n",
    "                person.interact(other)\n",
    "                \n",
    "    for person in persons:\n",
    "        person.night_actions()"
   ]
  },
  {
   "cell_type": "markdown",
   "metadata": {},
   "source": [
    "We initialise our world by writing a number of functions:"
   ]
  },
  {
   "cell_type": "code",
   "execution_count": null,
   "metadata": {},
   "outputs": [],
   "source": [
    "from random import randint\n",
    "\n",
    "\n",
    "def create_persons(min_j, max_j, min_i, max_i, n_persons):\n",
    "    min_age, max_age = 1, 90\n",
    "    min_weight, max_weight = 30, 120\n",
    "    persons = [\n",
    "        Person(\n",
    "            home_position=(randint(min_j, max_j), randint(min_i, max_i)),\n",
    "            age=randint(min_age, max_age),\n",
    "            weight=randint(min_weight, max_weight),\n",
    "        )\n",
    "        for i in range(n_persons)\n",
    "    ]\n",
    "    return persons\n",
    "\n",
    "\n",
    "def create_department_of_health(hospitals):\n",
    "    return DepartmentOfHealth(hospitals)\n",
    "\n",
    "\n",
    "def create_hospitals(n_hospitals):\n",
    "    hospitals = [\n",
    "        Hospital(capacity=100)\n",
    "        for i in range(n_hospitals)\n",
    "    ]\n",
    "    return hospitals\n",
    "\n",
    "\n",
    "def initialize():\n",
    "    # our little country\n",
    "    min_i, max_i = 0, 100\n",
    "    min_j, max_j = 0, 100\n",
    "    \n",
    "    # our citizen\n",
    "    n_persons = 1000\n",
    "    persons = create_persons(min_j, max_j, min_i, max_i, n_persons)\n",
    "        \n",
    "    # our healthcare system\n",
    "    n_hospitals = 4\n",
    "    hospitals = create_hospitals(n_hospitals)\n",
    "    \n",
    "    health_dept = create_department_of_health(hospitals)\n",
    "    \n",
    "    # global context\n",
    "    context = GlobalContext(\n",
    "        (min_j, max_j, min_i, max_i),\n",
    "        persons,\n",
    "        health_dept\n",
    "    )\n",
    "\n",
    "    return context"
   ]
  },
  {
   "cell_type": "code",
   "execution_count": null,
   "metadata": {},
   "outputs": [],
   "source": [
    "import tqdm"
   ]
  },
  {
   "cell_type": "code",
   "execution_count": null,
   "metadata": {},
   "outputs": [],
   "source": [
    "context = initialize()\n",
    "\n",
    "for day in tqdm.tqdm(range(100)):\n",
    "    simulate_day(context)"
   ]
  },
  {
   "cell_type": "code",
   "execution_count": null,
   "metadata": {},
   "outputs": [],
   "source": []
  },
  {
   "cell_type": "code",
   "execution_count": null,
   "metadata": {},
   "outputs": [],
   "source": []
  }
 ],
 "metadata": {
  "kernelspec": {
   "display_name": "Python 3",
   "language": "python",
   "name": "python3"
  },
  "language_info": {
   "codemirror_mode": {
    "name": "ipython",
    "version": 3
   },
   "file_extension": ".py",
   "mimetype": "text/x-python",
   "name": "python",
   "nbconvert_exporter": "python",
   "pygments_lexer": "ipython3",
   "version": "3.7.2"
  }
 },
 "nbformat": 4,
 "nbformat_minor": 2
}
