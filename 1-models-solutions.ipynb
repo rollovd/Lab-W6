{
 "cells": [
  {
   "cell_type": "markdown",
   "metadata": {},
   "source": [
    "This is a tutorial notebook on object-oriented software design, prepared for the Foundations of Software Engineering (FSE v2020.1, https://github.com/adasegroup/FSE2020_seminars) at Skoltech (http://skoltech.ru).\n",
    "\n",
    "Copyright 2020 by Alexey Artemov and ADASE Lab. "
   ]
  },
  {
   "cell_type": "markdown",
   "metadata": {},
   "source": [
    "# FSE-08: Object-Oriented Software Design"
   ]
  },
  {
   "cell_type": "markdown",
   "metadata": {},
   "source": [
    "The purpose of this practical is to give an introduction into object-oriented software design. You will learn to:\n",
    " - Formulate real-world problems in object-oriented terms\n",
    " - Use Python classes to implement the designed models"
   ]
  },
  {
   "cell_type": "markdown",
   "metadata": {},
   "source": [
    "### Legend"
   ]
  },
  {
   "cell_type": "markdown",
   "metadata": {},
   "source": [
    "In these frightening times, it is of utmost importance to be able to model the spread of various viruses. Our government has hired your company to create a flexible computational model for the spread of the most dangerous viruses, the Virus Spread Modelling System VSMS-20.\n",
    "\n",
    "In this task, your goal is to design an implement models of these viruses:\n",
    "\n",
    " - Seasonal flu virus\n",
    " - SARS-CoV-2\n",
    " - Cholera \n",
    " \n",
    "The goal is to be able to perform simulations to assess efficiency of public policymaking aiming to save lives."
   ]
  },
  {
   "cell_type": "markdown",
   "metadata": {},
   "source": [
    "### **What do we need to model?**"
   ]
  },
  {
   "cell_type": "markdown",
   "metadata": {},
   "source": [
    "In this design, we need to model the following domain entities as objects:\n",
    " 1. Viruses and infections, responsible for infecting persons.\n",
    " 2. Persons, responsible for being infected, transmitting infections.\n",
    " 3. The Department of Health, responsible for healthcare policymaking.\n",
    " 4. Hospitals, responsible for treating persons and performing tests.\n",
    " \n",
    "We need to model the following processes:\n",
    " 1. Person getting infected by the virus.\n",
    " 2. Person going through a number of states (e.g. healthy - asymptomatic infected - symptomatic infected - recovered).\n",
    " 3. Person getting tested for a speficic type of virus.\n",
    " 4. Person getting hospitalized.\n",
    " 5. Hospital figuring out the treatment for a person based on tests.\n",
    " 6. Department of Health checking for the number of infections, as reported by positive tests.\n",
    " 7. Department of Health establishing a policy (e.g., social distancing, full/partial lockdown, or mandatory wearing masks).\n",
    "\n",
    "We assume the following environmental constraints:\n",
    " - Persons cannot be born during the course of the simulation (but may become dead)\n",
    " - Persons can only have 1 virus (but many antibodies)\n",
    " - Persons may or may not obey the policies of the government\n",
    " - The Department of Health does not penalize persons for not obeying the policies"
   ]
  },
  {
   "cell_type": "markdown",
   "metadata": {},
   "source": [
    "**The purpose of this part of the practical** is to figure out the preliminary design of such a system. "
   ]
  },
  {
   "cell_type": "markdown",
   "metadata": {},
   "source": [
    "---"
   ]
  },
  {
   "cell_type": "markdown",
   "metadata": {},
   "source": [
    "### 1. Model viruses/infections"
   ]
  },
  {
   "cell_type": "markdown",
   "metadata": {},
   "source": [
    "#### Task 1:"
   ]
  },
  {
   "cell_type": "markdown",
   "metadata": {},
   "source": [
    "Create class hierarchy for viruses/infections:\n",
    " 1. Define the abstract class `Infectable` with a method `cause_symptoms` and two fields:\n",
    "   - `strength`, i.e. the ability of the virus to cause more severe symptoms;\n",
    "   - `contagiousness`, i.e. the ability of the virus to transmit from person to person.\n",
    " 2. Derive three other classes `SeasonalFluVirus`, `SARSCoV2`, and `Cholera`, leaving the implementation empty for now."
   ]
  },
  {
   "cell_type": "markdown",
   "metadata": {},
   "source": [
    "<img src=\"images/Infectable Class.svg\">"
   ]
  },
  {
   "cell_type": "markdown",
   "metadata": {},
   "source": [
    "#### Solution to task 1:"
   ]
  },
  {
   "cell_type": "code",
   "execution_count": null,
   "metadata": {},
   "outputs": [],
   "source": [
    "from abc import ABC, abstractmethod\n",
    "\n",
    "class Person: \n",
    "    pass\n",
    "\n",
    "class Infectable(ABC):\n",
    "    def __init__(self, strength=1.0, contag=1.0):\n",
    "        # contag is for contagiousness so we have less typos\n",
    "        self.strength = strength\n",
    "        self.contag = contag\n",
    "\n",
    "    @abstractmethod\n",
    "    def cause_symptoms(self, person: Person):\n",
    "        pass\n",
    "    \n",
    "\n",
    "class SeasonalFluVirus(Infectable):\n",
    "    def cause_symptoms(self, person: Person):\n",
    "        pass\n",
    "    \n",
    "    \n",
    "class SARSCoV2(Infectable):\n",
    "    def cause_symptoms(self, person: Person):\n",
    "        pass\n",
    "    \n",
    "    \n",
    "class Cholera(Infectable):\n",
    "    def cause_symptoms(self, person: Person):\n",
    "        pass"
   ]
  },
  {
   "cell_type": "markdown",
   "metadata": {},
   "source": [
    "### 2. Model a person"
   ]
  },
  {
   "cell_type": "markdown",
   "metadata": {},
   "source": [
    "#### Task 2:"
   ]
  },
  {
   "cell_type": "markdown",
   "metadata": {},
   "source": [
    "Create a class hierarchy for persons:\n",
    " 1. Create an abstract class `Person` with the attributes shown in the diagram. Note that:\n",
    "   - When a person is healthy, they would execute common actions (e.g. go to work and from work), implemented via `day_actions`, `night_actions`, and `interact` with other people if they are `is_contacting`. This may result in a person `get_infected` by a infection.\n",
    "   - But when a person is sick, they use `fight_virus` and `progress_disease` to describe this situation. Additionally we provide `is_life_threatening_condition` and `is_life_incompatible_condition` to test if a person is in a critical situation.\n",
    " 2. Create derived classes `DefaultPerson` and `CommunityPerson`, overriding respective methods."
   ]
  },
  {
   "cell_type": "markdown",
   "metadata": {},
   "source": [
    "<img src=\"images/Person Class.svg\">"
   ]
  },
  {
   "cell_type": "markdown",
   "metadata": {},
   "source": [
    "#### Solution to Task 2:"
   ]
  },
  {
   "cell_type": "code",
   "execution_count": null,
   "metadata": {},
   "outputs": [],
   "source": [
    "from abc import ABC, abstractmethod\n",
    "\n",
    "class Person(ABC):\n",
    "    MAX_TEMPERATURE_TO_SURVIVE = 44.0\n",
    "    LOWEST_WATER_PCT_TO_SURVIVE = 0.4\n",
    "    \n",
    "    LIFE_THREATENING_TEMPERATURE = 40.0\n",
    "    LIFE_THREATENING_WATER_PCT = 0.5\n",
    "    \n",
    "    def __init__(self, home_position=(0, 0), age=30, weight=70):\n",
    "        self.age = age\n",
    "        self.weight = weight\n",
    "        self.temperature = 36.6\n",
    "        self.water = 0.6 * self.weight\n",
    "        self.virus = None\n",
    "        self.antibody_types = set()\n",
    "        self.home_position = home_position\n",
    "        self.position = home_position\n",
    "    \n",
    "    @abstractmethod\n",
    "    def day_actions(self): pass\n",
    "\n",
    "    @abstractmethod\n",
    "    def night_actions(self): pass\n",
    "\n",
    "    @abstractmethod\n",
    "    def interact(self, other): pass\n",
    "\n",
    "    @abstractmethod\n",
    "    def get_infected(self, virus): pass\n",
    "    \n",
    "    def is_contacting(self, other: Person):\n",
    "        return self.position == other.position\n",
    "    \n",
    "    @abstractmethod\n",
    "    def fight_virus(self): pass\n",
    "\n",
    "    @abstractmethod\n",
    "    def progress_disease(self): pass\n",
    "    \n",
    "    def is_life_threatening_condition(self):\n",
    "        return self.temperature >= Person.LIFE_THREATENING_TEMPERATURE or \\\n",
    "           self.water / self.weight <= Person.LIFE_THREATENING_WATER_PCT\n",
    "    \n",
    "    def is_life_incompatible_condition(self):        \n",
    "        return self.temperature >= Person.MAX_TEMPERATURE_TO_SURVIVE or \\\n",
    "            self.water / self.weight <= Person.LOWEST_WATER_PCT_TO_SURVIVE\n",
    "\n",
    "    \n",
    "class DefaultPerson(Person): \n",
    "\n",
    "    def day_actions(self): pass\n",
    "\n",
    "    def night_actions(self): pass\n",
    "\n",
    "    def interact(self, other): pass\n",
    "\n",
    "    def get_infected(self, virus): pass\n",
    "\n",
    "    def fight_virus(self): pass\n",
    "\n",
    "    def progress_disease(self): pass\n",
    "    \n",
    "\n",
    "class CommunityPerson(Person):\n",
    "    def __init__(self, community_position=(0, 0), **kwargs):\n",
    "        super().__init__(**kwargs)\n",
    "        self.community_position = community_position\n",
    "        \n",
    "    def day_actions(self):\n",
    "        self.position = self.community_position\n",
    "        \n",
    "    def night_actions(self): pass\n",
    "\n",
    "    def interact(self, other): pass\n",
    "\n",
    "    def get_infected(self, virus): pass\n",
    "\n",
    "    def fight_virus(self): pass\n",
    "\n",
    "    def progress_disease(self): pass"
   ]
  },
  {
   "cell_type": "code",
   "execution_count": null,
   "metadata": {},
   "outputs": [],
   "source": [
    "CommunityPerson(\n",
    "    (50, 50),\n",
    "    age=30,\n",
    "    weight=80,\n",
    "    home_position=(0,0)\n",
    ")"
   ]
  },
  {
   "cell_type": "markdown",
   "metadata": {},
   "source": [
    "### 3. Model of a healthcare system and the global context"
   ]
  },
  {
   "cell_type": "markdown",
   "metadata": {},
   "source": [
    "#### Task 3:"
   ]
  },
  {
   "cell_type": "markdown",
   "metadata": {},
   "source": [
    "We restrict ourselves to only one country (no international flights, etc.). \n",
    "\n",
    "Create the model of the hospital, department of health, and global context:\n",
    " 1. `Hospital` hosts and treats patients.\n",
    " 2. `DepartmentOfHealth` monitors the epidemiological situation and can issue orders.\n",
    " 3. `GlobalContext` contains references to the world grid and a list of persons"
   ]
  },
  {
   "cell_type": "markdown",
   "metadata": {},
   "source": [
    "<img src=\"images/Hospital Class.svg\">"
   ]
  },
  {
   "cell_type": "markdown",
   "metadata": {},
   "source": [
    "#### Solution to task 3:"
   ]
  },
  {
   "cell_type": "code",
   "execution_count": null,
   "metadata": {},
   "outputs": [],
   "source": [
    "class Hospital:\n",
    "    def __init__(self, capacity):\n",
    "        self.capacity = capacity\n",
    "        self.patients = []\n",
    "    \n",
    "    def treat_patients(self):\n",
    "        pass"
   ]
  },
  {
   "cell_type": "code",
   "execution_count": null,
   "metadata": {},
   "outputs": [],
   "source": [
    "class DepartmentOfHealth:\n",
    "    def __init__(self, hospitals):\n",
    "        self.hospitals = hospitals\n",
    "    \n",
    "    def hospitalize(self, Person):\n",
    "        pass\n",
    "    \n",
    "    def make_policy(self):\n",
    "        pass"
   ]
  },
  {
   "cell_type": "code",
   "execution_count": null,
   "metadata": {},
   "outputs": [],
   "source": [
    "class GlobalContext:\n",
    "    def __init__(self, canvas, persons, health_dept):\n",
    "        self.canvas = canvas\n",
    "        self.persons = persons\n",
    "        self.health_dept = health_dept"
   ]
  },
  {
   "cell_type": "markdown",
   "metadata": {},
   "source": [
    "### 5. Model the world"
   ]
  },
  {
   "cell_type": "markdown",
   "metadata": {},
   "source": [
    "The basic algorithm works on a daily basis.\n",
    " 1. The Department of Health counts positive/negative tests from yesterday, decides if they need to introduce the new policies/restrictions.\n",
    " 2. The hospitals treat patients, making new tests.\n",
    " 3. People do their daily activities and interact, possibly infecting each other."
   ]
  },
  {
   "cell_type": "code",
   "execution_count": null,
   "metadata": {},
   "outputs": [],
   "source": [
    "def simulate_day(context):\n",
    "    persons, health_dept, hospitals = context.persons, context.health_dept, context.health_dept.hospitals\n",
    "\n",
    "    health_dept.make_policy()\n",
    "    \n",
    "    for hospital in hospitals:\n",
    "        hospital.treat_patients()\n",
    "    \n",
    "    for person in persons:\n",
    "        person.day_actions()\n",
    "    \n",
    "    for person in persons:\n",
    "        for other in persons:\n",
    "            if person is not other and person.is_contacting(other):\n",
    "                person.interact(other)\n",
    "                \n",
    "    for person in persons:\n",
    "        person.night_actions()"
   ]
  },
  {
   "cell_type": "markdown",
   "metadata": {},
   "source": [
    "We initialise our world by writing a number of functions:"
   ]
  },
  {
   "cell_type": "code",
   "execution_count": 2,
   "metadata": {},
   "outputs": [],
   "source": [
    "from random import randint\n",
    "\n",
    "\n",
    "def create_persons(min_j, max_j, min_i, max_i, n_persons):\n",
    "    min_age, max_age = 1, 90\n",
    "    min_weight, max_weight = 30, 120\n",
    "    persons = [\n",
    "        DefaultPerson(\n",
    "            home_position=(randint(min_j, max_j), randint(min_i, max_i)),\n",
    "            age=randint(min_age, max_age),\n",
    "            weight=randint(min_weight, max_weight),\n",
    "        )\n",
    "        for i in range(n_persons)\n",
    "    ]\n",
    "    return persons\n",
    "\n",
    "\n",
    "def create_department_of_health(hospitals):\n",
    "    return DepartmentOfHealth(hospitals)\n",
    "\n",
    "\n",
    "def create_hospitals(n_hospitals):\n",
    "    hospitals = [\n",
    "        Hospital(capacity=100)\n",
    "        for i in range(n_hospitals)\n",
    "    ]\n",
    "    return hospitals\n",
    "\n",
    "\n",
    "def initialize():\n",
    "    # our little country\n",
    "    min_i, max_i = 0, 100\n",
    "    min_j, max_j = 0, 100\n",
    "    \n",
    "    # our citizen\n",
    "    n_persons = 1000\n",
    "    persons = create_persons(min_j, max_j, min_i, max_i, n_persons)\n",
    "        \n",
    "    # our healthcare system\n",
    "    n_hospitals = 4\n",
    "    hospitals = create_hospitals(n_hospitals)\n",
    "    \n",
    "    health_dept = create_department_of_health(hospitals)\n",
    "    \n",
    "    # global context\n",
    "    context = GlobalContext(\n",
    "        (min_j, max_j, min_i, max_i),\n",
    "        persons,\n",
    "        health_dept\n",
    "    )\n",
    "\n",
    "    return context"
   ]
  },
  {
   "cell_type": "code",
   "execution_count": null,
   "metadata": {},
   "outputs": [],
   "source": [
    "import tqdm"
   ]
  },
  {
   "cell_type": "code",
   "execution_count": null,
   "metadata": {},
   "outputs": [],
   "source": [
    "context = initialize()\n",
    "\n",
    "for day in tqdm.tqdm(range(100)):\n",
    "    simulate_day(context)"
   ]
  },
  {
   "cell_type": "code",
   "execution_count": null,
   "metadata": {},
   "outputs": [],
   "source": [
    "context.canvas"
   ]
  },
  {
   "cell_type": "code",
   "execution_count": null,
   "metadata": {},
   "outputs": [],
   "source": [
    "context.persons[0]"
   ]
  },
  {
   "cell_type": "code",
   "execution_count": null,
   "metadata": {},
   "outputs": [],
   "source": [
    "context.persons[2].age"
   ]
  },
  {
   "cell_type": "code",
   "execution_count": null,
   "metadata": {},
   "outputs": [],
   "source": [
    "context.health_dept.make_policy()"
   ]
  },
  {
   "cell_type": "code",
   "execution_count": 2,
   "metadata": {},
   "outputs": [],
   "source": [
    "from abc import ABC, abstractmethod\n",
    "\n",
    "class Person: \n",
    "    pass\n",
    "\n",
    "class Person(ABC):\n",
    "    \n",
    "    def __init__(self):\n",
    "        self.position = home_position\n",
    "    \n",
    "    @abstractmethod\n",
    "    def day_actions(self): pass\n",
    "    \n",
    "    def is_contacting(self, other: Person):\n",
    "        return self.position == other.position\n"
   ]
  },
  {
   "cell_type": "code",
   "execution_count": 3,
   "metadata": {},
   "outputs": [
    {
     "name": "stdout",
     "output_type": "stream",
     "text": [
      "Help on class Person in module __main__:\n",
      "\n",
      "class Person(abc.ABC)\n",
      " |  Helper class that provides a standard way to create an ABC using\n",
      " |  inheritance.\n",
      " |  \n",
      " |  Method resolution order:\n",
      " |      Person\n",
      " |      abc.ABC\n",
      " |      builtins.object\n",
      " |  \n",
      " |  Methods defined here:\n",
      " |  \n",
      " |  __init__(self)\n",
      " |      Initialize self.  See help(type(self)) for accurate signature.\n",
      " |  \n",
      " |  day_actions(self)\n",
      " |  \n",
      " |  is_contacting(self, other:__main__.Person)\n",
      " |  \n",
      " |  ----------------------------------------------------------------------\n",
      " |  Data and other attributes defined here:\n",
      " |  \n",
      " |  __abstractmethods__ = frozenset({'day_actions'})\n",
      " |  \n",
      " |  ----------------------------------------------------------------------\n",
      " |  Data descriptors inherited from abc.ABC:\n",
      " |  \n",
      " |  __dict__\n",
      " |      dictionary for instance variables (if defined)\n",
      " |  \n",
      " |  __weakref__\n",
      " |      list of weak references to the object (if defined)\n",
      "\n"
     ]
    }
   ],
   "source": [
    "help(Person)"
   ]
  },
  {
   "cell_type": "code",
   "execution_count": null,
   "metadata": {},
   "outputs": [],
   "source": []
  }
 ],
 "metadata": {
  "kernelspec": {
   "display_name": "Python 3",
   "language": "python",
   "name": "python3"
  },
  "language_info": {
   "codemirror_mode": {
    "name": "ipython",
    "version": 3
   },
   "file_extension": ".py",
   "mimetype": "text/x-python",
   "name": "python",
   "nbconvert_exporter": "python",
   "pygments_lexer": "ipython3",
   "version": "3.6.9"
  }
 },
 "nbformat": 4,
 "nbformat_minor": 2
}
