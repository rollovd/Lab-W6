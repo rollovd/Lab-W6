{
 "cells": [
  {
   "cell_type": "markdown",
   "metadata": {},
   "source": [
    "This is a tutorial notebook on object-oriented software design, prepared for the Foundations of Software Engineering (FSE v2020.1, https://github.com/adasegroup/FSE2020_seminars) at Skoltech (http://skoltech.ru).\n",
    "\n",
    "Copyright 2020 by Alexey Artemov and ADASE Lab. "
   ]
  },
  {
   "cell_type": "markdown",
   "metadata": {},
   "source": [
    "# FSE-08: Object-Oriented Software Design: Creational Design Patterns"
   ]
  },
  {
   "cell_type": "markdown",
   "metadata": {},
   "source": [
    "## 1. Singleton: disabling instantiation of more than one object"
   ]
  },
  {
   "cell_type": "markdown",
   "metadata": {},
   "source": [
    "In some instances, we would like to disable instantiation of more than 1 object of a particular class. \n",
    "\n",
    "**Why would we like to have only 1 object of a class?**\n",
    "\n",
    "Acceptable reasons to use a Singleton include:\n",
    "\n",
    " - Access to a \"heavy\" shared resource (e.g. a database), preferred that an access to the resource will be requested from multiple, disparate parts of the system.\n",
    " - \"Logging class rationale\": heavy re-use of the same class instance by lots of callers \n",
    " > A Singleton can be used instead of a single instance of a class because a logging class usually needs to be used over and over again ad nauseam by every class in a project. If every class uses this logging class, dependency injection becomes cumbersome. ([When should I use the singleton?](https://stackoverflow.com/questions/228164/on-design-patterns-when-should-i-use-the-singleton))\n",
    " \n",
    " \n",
    " \n",
    "**Example implementation:**\n",
    "\n",
    "(more variants at [Creating a singleton in Python](https://stackoverflow.com/questions/6760685/creating-a-singleton-in-python))\n",
    "\n",
    "```python\n",
    "class Singleton:\n",
    "    __instance = None\n",
    "    def __new__(cls, *args):\n",
    "        if cls.__instance is None:\n",
    "            cls.__instance = object.__new__(cls, *args)\n",
    "        return cls.__instance\n",
    "```"
   ]
  },
  {
   "cell_type": "markdown",
   "metadata": {},
   "source": [
    "**Task 1:** \n",
    "1. Explain where can a Singleton pattern be used within the virus spread modelling system.\n",
    "2. Implement a Singleton pattern with the `DepartmentOfHealth` and `GlobalContext` classes."
   ]
  },
  {
   "cell_type": "markdown",
   "metadata": {},
   "source": [
    "#### Solution to task 1:"
   ]
  },
  {
   "cell_type": "code",
   "execution_count": 178,
   "metadata": {},
   "outputs": [],
   "source": [
    "class DepartmentOfHealth:\n",
    "    def __init__(self, hospitals):\n",
    "        self.hospitals = hospitals\n",
    "    \n",
    "    def hospitalize(self, Person):\n",
    "        pass\n",
    "    \n",
    "    def make_policy(self):\n",
    "        pass\n",
    "    \n",
    "    __instance = None\n",
    "    def __new__(cls, *args):\n",
    "        if cls.__instance is None:\n",
    "            cls.__instance = object.__new__(cls, *args)\n",
    "        return cls.__instance"
   ]
  },
  {
   "cell_type": "code",
   "execution_count": 182,
   "metadata": {},
   "outputs": [],
   "source": [
    "d1 = DepartmentOfHealth([])"
   ]
  },
  {
   "cell_type": "code",
   "execution_count": 183,
   "metadata": {},
   "outputs": [],
   "source": [
    "d2 = DepartmentOfHealth([])"
   ]
  },
  {
   "cell_type": "code",
   "execution_count": 184,
   "metadata": {},
   "outputs": [
    {
     "data": {
      "text/plain": [
       "True"
      ]
     },
     "execution_count": 184,
     "metadata": {},
     "output_type": "execute_result"
    }
   ],
   "source": [
    "d1 is d2"
   ]
  },
  {
   "cell_type": "code",
   "execution_count": 190,
   "metadata": {},
   "outputs": [],
   "source": [
    "class GlobalContext:\n",
    "    def __init__(self, canvas, persons, health_dept):\n",
    "        self.canvas = canvas\n",
    "        self.persons = persons\n",
    "        self.health_dept = health_dept\n",
    "        \n",
    "    __instance = None\n",
    "    def __new__(cls, *args):\n",
    "        if cls.__instance is None:\n",
    "            cls.__instance = object.__new__(cls, *args)\n",
    "        return cls.__instance"
   ]
  },
  {
   "cell_type": "markdown",
   "metadata": {},
   "source": [
    "---"
   ]
  },
  {
   "cell_type": "markdown",
   "metadata": {},
   "source": [
    "## 2. Factory method: single point of access to creation of objects"
   ]
  },
  {
   "cell_type": "markdown",
   "metadata": {},
   "source": [
    "If you're having a number of object subclasses with a shared superclass, it is convenient to provide a single point of access to generating instances of these classes."
   ]
  },
  {
   "cell_type": "markdown",
   "metadata": {},
   "source": [
    "**Why would we like to have a function rather than calling constructors explicitly?**\n",
    "\n",
    "Acceptable reasons to use a Factory method include:\n",
    "\n",
    " - Don't need (or know how) the exact class of the object to be instantiated, or, as a client, would like to delegate the decision about instantiation to a different class.\n",
    " \n",
    " \n",
    "**Example implementation:**\n",
    "\n",
    "```python\n",
    "class Person:\n",
    "    def get_name(self):\n",
    "        pass\n",
    "\n",
    "class Villager(Person):\n",
    "    def get_name(self):\n",
    "        return \"Village Person\"\n",
    "        \n",
    "class CityPerson(Person):\n",
    "    def get_name(self):\n",
    "        return \"City Person\"\n",
    "\n",
    "class PersonType(Enum):\n",
    "    Rural = 1\n",
    "    Urban = 2\n",
    "    \n",
    "def get_person(person_type: PersonType):\n",
    "    if PersonType.Rural == person_type:\n",
    "        return Villager()\n",
    "    elif PersonType.Urban == person_type:\n",
    "        return CityPerson()\n",
    "    else:\n",
    "        raise ValueError()\n",
    "```"
   ]
  },
  {
   "cell_type": "markdown",
   "metadata": {},
   "source": [
    "**Task 2:** \n",
    "1. Explain where can a Factory Method pattern be used within the virus spread modelling system.\n",
    "2. Create a virus factory method and implement the basic virus functionality."
   ]
  },
  {
   "cell_type": "markdown",
   "metadata": {},
   "source": [
    "<img src=\"images/Factory Method Infectable Class.svg\">"
   ]
  },
  {
   "cell_type": "markdown",
   "metadata": {},
   "source": [
    "#### Solution to task 2:"
   ]
  },
  {
   "cell_type": "code",
   "execution_count": 185,
   "metadata": {},
   "outputs": [],
   "source": [
    "from enum import Enum\n",
    "from random import expovariate\n",
    "from abc import ABC, abstractmethod\n",
    "\n",
    "class Person: pass\n",
    "\n",
    "class Infectable(ABC):\n",
    "    def __init__(self, strength=1.0, contag=1.0):\n",
    "        # contag is for contagiousness so we have less typos\n",
    "        self.strength = strength\n",
    "        self.contag = contag\n",
    "\n",
    "    @abstractmethod\n",
    "    def cause_symptoms(self, person: Person):\n",
    "        pass\n",
    "\n",
    "\n",
    "class SeasonalFluVirus(Infectable):\n",
    "    def cause_symptoms(self, person: Person):\n",
    "        pass\n",
    "    \n",
    "    \n",
    "class SARSCoV2(Infectable):\n",
    "    def cause_symptoms(self, person: Person):\n",
    "        pass\n",
    "    \n",
    "    \n",
    "class Cholera(Infectable):\n",
    "    def cause_symptoms(self, person: Person):\n",
    "        pass\n",
    "    \n",
    "\n",
    "class InfectableType(Enum):\n",
    "    SeasonalFlu = 1\n",
    "    SARSCoV2 = 2\n",
    "    Cholera = 3\n",
    "\n",
    "    \n",
    "def get_infectable(infectable_type: InfectableType):\n",
    "    if InfectableType.SeasonalFlu == infectable_type:\n",
    "        return SeasonalFluVirus(strength=expovariate(10.0), contag=expovariate(10.0))\n",
    "    \n",
    "    elif InfectableType.SARSCoV2 == infectable_type:\n",
    "        return SARSCoV2(strength=expovariate(2.0), contag=expovariate(2.0))\n",
    "    \n",
    "    elif InfectableType.Cholera == infectable_type:\n",
    "        return Cholera(strength=expovariate(2.0), contag=expovariate(2.0))\n",
    "    \n",
    "    else:\n",
    "        raise ValueError()"
   ]
  },
  {
   "cell_type": "code",
   "execution_count": 186,
   "metadata": {},
   "outputs": [
    {
     "data": {
      "text/plain": [
       "<__main__.SARSCoV2 at 0x1053cfe10>"
      ]
     },
     "execution_count": 186,
     "metadata": {},
     "output_type": "execute_result"
    }
   ],
   "source": [
    "get_infectable(InfectableType.SARSCoV2)"
   ]
  },
  {
   "cell_type": "markdown",
   "metadata": {},
   "source": [
    "---"
   ]
  },
  {
   "cell_type": "markdown",
   "metadata": {},
   "source": [
    "## 3. Abstract factory"
   ]
  },
  {
   "cell_type": "markdown",
   "metadata": {},
   "source": [
    "Suppose you want to be able to create instances of multiple sibling classes and use their genetic interfaces. "
   ]
  },
  {
   "cell_type": "markdown",
   "metadata": {},
   "source": [
    "<img width=640 src=\"images/Abstract_factory.svg\">"
   ]
  },
  {
   "cell_type": "markdown",
   "metadata": {},
   "source": [
    "**Why would we like to have a function rather than calling constructors explicitly?**\n",
    "\n",
    "Acceptable reasons to use an Abstract Factory method include ([Why do we need Abstract factory design pattern?](https://stackoverflow.com/questions/2280170/why-do-we-need-abstract-factory-design-pattern)):\n",
    "\n",
    " - Any place where you need a run-time value to construct a particular dependency\n",
    " \n",
    " \n",
    "**Example implementation:**\n",
    "\n",
    "```python\n",
    "from abc import ABC, abstractmethod\n",
    "from sys import platform\n",
    "\n",
    "\n",
    "class Button(ABC):\n",
    "    @abstractmethod\n",
    "    def paint(self):\n",
    "        pass\n",
    "\n",
    "class LinuxButton(Button):\n",
    "    def paint(self):\n",
    "        return 'Render a button in a Linux style'\n",
    "\n",
    "class WindowsButton(Button):\n",
    "    def paint(self):\n",
    "        return 'Render a button in a Windows style'\n",
    "\n",
    "class MacOSButton(Button):\n",
    "    def paint(self):\n",
    "        return 'Render a button in a MacOS style'\n",
    "\n",
    "class GUIFactory(ABC):\n",
    "    @abstractmethod\n",
    "    def create_button(self):\n",
    "        pass\n",
    "\n",
    "class LinuxFactory(GUIFactory):\n",
    "    def create_button(self):\n",
    "        return LinuxButton()\n",
    "\n",
    "class WindowsFactory(GUIFactory):\n",
    "    def create_button(self):\n",
    "        return WindowsButton()\n",
    "\n",
    "class MacOSFactory(GUIFactory):\n",
    "    def create_button(self):\n",
    "        return MacOSButton()\n",
    "\n",
    "if platform == 'linux':\n",
    "    factory = LinuxFactory()\n",
    "elif platform == 'darwin':\n",
    "    factory = MacOSFactory()\n",
    "elif platform == 'win32':\n",
    "    factory = WindowsFactory()\n",
    "else:\n",
    "    raise NotImplementedError(\n",
    "        f'Not implemented for your platform: {platform}'\n",
    "    )\n",
    "\n",
    "button = factory.create_button()\n",
    "result = button.paint()\n",
    "print(result)\n",
    "```"
   ]
  },
  {
   "cell_type": "markdown",
   "metadata": {},
   "source": [
    "#### Task 3"
   ]
  },
  {
   "cell_type": "markdown",
   "metadata": {},
   "source": [
    "1. Explain where can an Abstract Factory pattern be used within the virus spread modelling system.\n",
    "2. Create `AbstractPersonFactory` class to provide `get_person` interface, and subclass it to `DefaultPersonFactory` and `CommunityPersonFactory` yielding the respective `DefaultPerson` and `CommunityPerson` instances."
   ]
  },
  {
   "cell_type": "markdown",
   "metadata": {},
   "source": [
    "<img src=\"images/Abstract Person Factory Class.svg\"/>"
   ]
  },
  {
   "cell_type": "markdown",
   "metadata": {},
   "source": [
    "#### Solution to Task 3"
   ]
  },
  {
   "cell_type": "code",
   "execution_count": 188,
   "metadata": {},
   "outputs": [],
   "source": [
    "from abc import ABC, abstractmethod\n",
    "from random import randint\n",
    "\n",
    "\n",
    "class Person(ABC):\n",
    "    MAX_TEMPERATURE_TO_SURVIVE = 44.0\n",
    "    LOWEST_WATER_PCT_TO_SURVIVE = 0.4\n",
    "    \n",
    "    LIFE_THREATENING_TEMPERATURE = 40.0\n",
    "    LIFE_THREATENING_WATER_PCT = 0.5\n",
    "    \n",
    "    def __init__(self, home_position=(0, 0), age=30, weight=70):\n",
    "        self.age = age\n",
    "        self.weight = weight\n",
    "        self.temperature = 36.6\n",
    "        self.water = 0.6 * self.weight\n",
    "        self.virus = None\n",
    "        self.antibody_types = set()\n",
    "        self.home_position = home_position\n",
    "        self.position = home_position\n",
    "    \n",
    "    @abstractmethod\n",
    "    def day_actions(self): pass\n",
    "\n",
    "    def night_actions(self):\n",
    "        self.position = self._home_position\n",
    "\n",
    "#     @abstractmethod\n",
    "    def interact(self, other): pass\n",
    "\n",
    "#     @abstractmethod\n",
    "    def get_infected(self, virus): pass\n",
    "    \n",
    "    def is_contacting(self, other: Person):\n",
    "        return self.position == other.position\n",
    "    \n",
    "#     @abstractmethod\n",
    "    def fight_virus(self): pass\n",
    "\n",
    "#     @abstractmethod\n",
    "    def progress_disease(self): pass\n",
    "    \n",
    "    def is_life_threatening_condition(self):\n",
    "        return self.temperature >= Person.LIFE_THREATENING_TEMPERATURE or \\\n",
    "           self.water / self.weight <= Person.LIFE_THREATENING_WATER_PCT\n",
    "    \n",
    "    def is_life_incompatible_condition(self):        \n",
    "        return self.temperature >= Person.MAX_TEMPERATURE_TO_SURVIVE or \\\n",
    "            self.water / self.weight <= Person.LOWEST_WATER_PCT_TO_SURVIVE\n",
    "\n",
    "\n",
    "class DefaultPerson(Person):\n",
    "    def day_actions(self):\n",
    "        self.position = (randint(min_j, max_j), randint(min_i, max_i))\n",
    "\n",
    "\n",
    "class CommunityPerson(Person):\n",
    "    def __init__(self, community_position=(0, 0), **kwargs):\n",
    "        super().__init__(**kwargs)\n",
    "        self.community_position = community_position\n",
    "        \n",
    "    def day_actions(self):\n",
    "        self.position = self.community_position"
   ]
  },
  {
   "cell_type": "code",
   "execution_count": 195,
   "metadata": {},
   "outputs": [],
   "source": [
    "class AbstractPersonFactory(ABC):\n",
    "    def __init__(self, context):\n",
    "        self.min_age, self.max_age = 1, 90\n",
    "        self.min_weight, self.max_weight = 30, 120\n",
    "        self.min_j, self.max_j, self.min_i, self.max_i = context.canvas\n",
    "\n",
    "    @abstractmethod\n",
    "    def get_person(self) -> Person:\n",
    "        pass\n",
    "\n",
    "    \n",
    "class DefaultPersonFactory(AbstractPersonsFactory):\n",
    "    def get_person(self) -> Person:\n",
    "        return DefaultPerson(\n",
    "            home_position=(randint(self.min_j, self.max_j), randint(self.min_i, self.max_i)),\n",
    "            age=randint(self.min_age, self.max_age),\n",
    "            weight=randint(self.min_weight, self.max_weight),\n",
    "        )\n",
    "\n",
    "\n",
    "class CommunityPersonFactory(AbstractPersonsFactory):\n",
    "    def __init__(self, *args, community_position=(0, 0)):\n",
    "        super().__init__(*args)\n",
    "        self.community_position = community_position\n",
    "\n",
    "    def get_person(self) -> Person:\n",
    "        return CommunityPerson(\n",
    "            home_position=(randint(self.min_j, self.max_j), randint(self.min_i, self.max_i)),\n",
    "            age=randint(self.min_age, self.max_age),\n",
    "            weight=randint(self.min_weight, self.max_weight),\n",
    "            community_position=self.community_position\n",
    "        )"
   ]
  },
  {
   "cell_type": "code",
   "execution_count": 196,
   "metadata": {},
   "outputs": [],
   "source": [
    "def create_persons(min_j, max_j, min_i, max_i, n_persons):\n",
    "    factory_params = (min_j, max_j, min_i, max_i)\n",
    "    \n",
    "    default_factory = DefaultPersonFactory(*factory_params)\n",
    "    community_factory = CommunityPersonFactory(*factory_params, community_position=(50, 50))\n",
    "\n",
    "    n_default_persons = int(n_persons * 0.75)\n",
    "    n_community_persons = n_persons - n_default_persons\n",
    "\n",
    "    persons = []\n",
    "    for i in range(n_default_persons):\n",
    "        persons.append(default_factory.get_person())\n",
    "        \n",
    "    for i in range(n_community_persons):\n",
    "        persons.append(community_factory.get_person())\n",
    "\n",
    "    return persons"
   ]
  },
  {
   "cell_type": "code",
   "execution_count": 198,
   "metadata": {},
   "outputs": [
    {
     "data": {
      "text/plain": [
       "[<__main__.DefaultPerson at 0x10539fc50>,\n",
       " <__main__.DefaultPerson at 0x10539fd30>,\n",
       " <__main__.DefaultPerson at 0x10539f9b0>,\n",
       " <__main__.DefaultPerson at 0x10539fda0>,\n",
       " <__main__.DefaultPerson at 0x10539f5c0>,\n",
       " <__main__.DefaultPerson at 0x10539f860>,\n",
       " <__main__.DefaultPerson at 0x10538d710>,\n",
       " <__main__.CommunityPerson at 0x10538dfd0>,\n",
       " <__main__.CommunityPerson at 0x10538d6a0>,\n",
       " <__main__.CommunityPerson at 0x10538d470>]"
      ]
     },
     "execution_count": 198,
     "metadata": {},
     "output_type": "execute_result"
    }
   ],
   "source": [
    "create_persons(0, 99, 0, 99, 10)"
   ]
  },
  {
   "cell_type": "markdown",
   "metadata": {},
   "source": [
    "## 4. Builder: parameterise the construction process of a complex object"
   ]
  },
  {
   "cell_type": "markdown",
   "metadata": {},
   "source": [
    "If \n",
    " - you're having an object (Client, Director) that has an idea of WHAT the contents of SOMETHING should be,\n",
    " - but you do not want to concern this object with the actual intantiation of SOMETHING,\n",
    "\n",
    "then\n",
    " - you can delegate the creation to another object (Service, Builder)\n",
    " - that has an idea of HOW to actually instantiate SOMETHING."
   ]
  },
  {
   "cell_type": "markdown",
   "metadata": {},
   "source": [
    "<img width=640 src=\"images/Builder_UML_class_diagram.svg\"/>"
   ]
  },
  {
   "cell_type": "markdown",
   "metadata": {},
   "source": [
    "**Why would we like to have a partially parameterized Builder rather than calling constructors explicitly?**\n",
    "\n",
    "Acceptable reasons to use a Builder pattern include ([What are the advantages of Builder Pattern of GoF?](https://softwareengineering.stackexchange.com/questions/345688/what-are-the-advantages-of-builder-pattern-of-gof)):\n",
    "\n",
    " - The object cannot be constructed in one call. This might be the case when the product is immutable, or contains complex object graphs e.g. with circular references.\n",
    " - You have one build process that should build many different kinds of products. \n",
    " \n",
    "**Example implementation:**\n",
    "\n",
    "```python\n",
    "class Movie:\n",
    "    def __init__(self, actors, scenes, screenplay):\n",
    "        self._actors = actors\n",
    "        self._scenes = scenes\n",
    "        self._screenplay = screenplay\n",
    "\n",
    "\n",
    "class MovieDirector:\n",
    "    '''Someone who knows the parameterization of an object to be constructed, \n",
    "    i.e. knows WHAT to build.'''\n",
    "    def __init__(self, builder):\n",
    "        self._builder = builder\n",
    "\n",
    "    def create_movie(self):\n",
    "        self._builder._screenplay = [\n",
    "            'The girl disappears mysteriously in SF.',\n",
    "            'A brave detective is on the journey to find the girl.'\n",
    "        ]\n",
    "        self._builder._actors = ['Natalie Portman', 'Brad Pitt']\n",
    "\n",
    "\n",
    "class MovieOperator:\n",
    "    '''Someone who knows HOW to build but expects more information on specific parameterization.'''\n",
    "    def __init__(self):\n",
    "        self._scenes = ['Golden Gate Bridge', 'San Francisco suburbs']\n",
    "        self._screenplay = None\n",
    "        self._actors = None\n",
    "        \n",
    "    def shoot_movie(self):\n",
    "        movie = Movie(self._actors, self._scenes, self._screenplay)\n",
    "        return movie\n",
    "    \n",
    "    \n",
    "# Usage example:\n",
    "    operator = MovieOperator()\n",
    "    director = MovieDirector(operator)\n",
    "    director.create_movie()\n",
    "    movie = operator.shoot_movie()\n",
    "```"
   ]
  },
  {
   "cell_type": "markdown",
   "metadata": {},
   "source": [
    "#### Task 4:"
   ]
  },
  {
   "cell_type": "markdown",
   "metadata": {},
   "source": [
    "Implement a Builder pattern for selecting a type of drugs for treating the patient in a Hospital.\n",
    " 1. Create a interface `Drug` with a method `apply` acting on a `Person` instance\n",
    " 2. According to the following class diagram, implement the entire class tree. _Note:_ `AntipyreticDrug` and `RehydrationDrug` and `AntivirusDrug` provide no real extension of the `Drug` interface. \n",
    " 3. For `AntipyreticDrug`, implement concrete subclasses `Aspirin`, `Ibuprofen`;\n",
    " for `RehydrationDrug`, implement concrete subclasses `Glucose`, `Rehydron`;\n",
    " for `AntivirusDrug`, implement concrete subclasses `Placebo`, `AntivirusSeasonalFlu`, `AntivirusSARSCoV2`, `AntivirusCholera`."
   ]
  },
  {
   "cell_type": "markdown",
   "metadata": {},
   "source": [
    "<img src=\"images/Drug Class.svg\"/>"
   ]
  },
  {
   "cell_type": "code",
   "execution_count": 92,
   "metadata": {},
   "outputs": [],
   "source": [
    "from abc import ABC\n",
    "\n",
    "\n",
    "class Drug(ABC):\n",
    "    def apply(self, person):\n",
    "        # somehow reduce person's symptoms\n",
    "        pass\n",
    "\n",
    "\n",
    "class AntipyreticDrug(Drug): pass\n",
    "\n",
    "\n",
    "class Aspirin(AntipyreticDrug):\n",
    "    '''A cheaper version of the fever/pain killer.'''\n",
    "    def __init__(self, dose):\n",
    "        self.dose = dose\n",
    "        self.efficiency = 0.5\n",
    "        \n",
    "    def apply(self, person):\n",
    "        person.temperature = max(36.6, person.temperature - self.dose * self.efficiency)\n",
    "\n",
    "\n",
    "class Ibuprofen(AntipyreticDrug):\n",
    "    '''A more efficient version of the fever/pain killer.'''\n",
    "    def __init__(self, dose):\n",
    "        self.dose = dose\n",
    "        \n",
    "    def apply(self, person):\n",
    "        person.temperature = 36.6\n",
    "\n",
    "\n",
    "class RehydrationDrug(Drug): pass\n",
    "\n",
    "class Glucose(RehydrationDrug):\n",
    "    '''A cheaper version of the rehydration drug.'''\n",
    "    def __init__(self, dose):\n",
    "        self.dose = dose\n",
    "        self.efficiency = 0.1\n",
    "        \n",
    "    def apply(self, person):\n",
    "        person.water = min(person.water + self.dose * self.efficiency,\n",
    "                            0.6 * person.weight)\n",
    "\n",
    "\n",
    "class Rehydron(RehydrationDrug):\n",
    "    '''A more efficient version of the rehydration drug.'''\n",
    "    def __init__(self, dose):\n",
    "        self.dose = dose\n",
    "        self.efficiency = 1.0\n",
    "        \n",
    "    def apply(self, person):\n",
    "        person._water = 0.6 * person.weight\n",
    "\n",
    "\n",
    "class AntivirusDrug(Drug): pass\n",
    "\n",
    "class Placebo(AntivirusDrug):\n",
    "    def __init__(self, dose):\n",
    "        self.dose = dose\n",
    "\n",
    "    def apply(self, person): pass\n",
    "\n",
    "\n",
    "class AntivirusSeasonalFlu(AntivirusDrug):\n",
    "    def __init__(self, dose):\n",
    "        self.dose = dose\n",
    "        self.efficiency = 1.0\n",
    "        \n",
    "    def apply(self, person):\n",
    "        if isinstance(person.virus, SeasonalFluVirus):\n",
    "            person.virus.strength -= self.dose * self.efficiency\n",
    "            \n",
    "        elif isinstance(person.virus, SARSCoV2):\n",
    "            person.virus.strength -= self.dose * self.efficiency / 10.0\n",
    "\n",
    "\n",
    "class AntivirusSARSCoV2(AntivirusDrug):\n",
    "    def __init__(self, dose):\n",
    "        self.dose = dose\n",
    "        self.efficiency = 0.1\n",
    "        \n",
    "    def apply(self, person):\n",
    "        if isinstance(person.virus, SARSCoV2):\n",
    "            person.virus.strength -= self.dose * self.efficiency\n",
    "\n",
    "\n",
    "class AntivirusCholera(AntivirusDrug):\n",
    "    def __init__(self, dose):\n",
    "        self.dose = dose\n",
    "        self.efficiency = 0.1\n",
    "        \n",
    "    def apply(self, person):\n",
    "        if isinstance(person.virus, Cholera):\n",
    "            person.virus.strength -= self.dose * self.efficiency\n"
   ]
  },
  {
   "cell_type": "markdown",
   "metadata": {},
   "source": [
    "#### Task 5: continue with builder implementation, create builder classes"
   ]
  },
  {
   "cell_type": "markdown",
   "metadata": {},
   "source": [
    "Implement the class hierarchy for `DrugReposistory`, responsible for producing concrete drug sequences:\n",
    " 1. Interface `DrugRepository` with methods depicted in the diagram. \n",
    " 2. Subclass `DrugRepository` with `CheapDrugRepository` and `ExpensiveDrugRepository` that are able to create different types of drugs."
   ]
  },
  {
   "cell_type": "markdown",
   "metadata": {},
   "source": [
    "<img src=\"images/DrugRepository Class.svg\"/>"
   ]
  },
  {
   "cell_type": "markdown",
   "metadata": {},
   "source": [
    "#### Solution to task 5"
   ]
  },
  {
   "cell_type": "code",
   "execution_count": 199,
   "metadata": {},
   "outputs": [],
   "source": [
    "from typing import List\n",
    "\n",
    "\n",
    "class DrugRepository(ABC):\n",
    "    def __init__(self):\n",
    "        self.treatment = []\n",
    "        \n",
    "    @abstractmethod\n",
    "    def get_antifever(self, dose) -> Drug: pass\n",
    "    \n",
    "    @abstractmethod\n",
    "    def get_rehydration(self, dose) -> Drug: pass\n",
    "    \n",
    "    @abstractmethod\n",
    "    def get_seasonal_antivirus(self, dose) -> Drug: pass\n",
    "    \n",
    "    @abstractmethod\n",
    "    def get_sars_antivirus(self, dose) -> Drug: pass\n",
    "    \n",
    "    @abstractmethod\n",
    "    def get_cholera_antivirus(self, dose) -> Drug: pass\n",
    "    \n",
    "    def get_treatment(self):\n",
    "        return self.treatment\n",
    "\n",
    "\n",
    "class CheapDrugRepository(DrugRepository):\n",
    "    def get_antifever(self, dose) -> Drug:\n",
    "        return Aspirin(dose)\n",
    "\n",
    "    def get_rehydration(self, dose) -> Drug:\n",
    "        return Glucose(dose)\n",
    "\n",
    "    def get_seasonal_antivirus(self, dose) -> Drug:\n",
    "        return Placebo(dose)\n",
    "\n",
    "    def get_sars_antivirus(self, dose) -> Drug:\n",
    "        return Placebo(dose)\n",
    "\n",
    "    def get_cholera_antivirus(self, dose) -> Drug:\n",
    "        return Placebo(dose)\n",
    "\n",
    "\n",
    "class ExpensiveDrugRepository(DrugRepository):\n",
    "    def get_antifever(self, dose) -> Drug:\n",
    "        return Ibuprofen(dose)\n",
    "\n",
    "    def get_rehydration(self, dose) -> Drug:\n",
    "        return Rehydron(dose)\n",
    "\n",
    "    def get_seasonal_antivirus(self, dose) -> Drug:\n",
    "        return AntivirusSeasonalFlu(dose)\n",
    "\n",
    "    def get_sars_antivirus(self, dose) -> Drug:\n",
    "        return AntivirusSARSCoV2(dose)\n",
    "\n",
    "    def get_cholera_antivirus(self, dose) -> Drug:\n",
    "        return AntivirusCholera(dose)"
   ]
  },
  {
   "cell_type": "markdown",
   "metadata": {},
   "source": [
    "#### Task 6: continue with builder implementation, create director hierarchy / methods"
   ]
  },
  {
   "cell_type": "markdown",
   "metadata": {},
   "source": [
    "We need to identify the patient's desease, create an appropriate treatment plan, and execute treatment:\n",
    " 1. Create a factory method `get_prescription_method` that would create one of the treatment.\n",
    " 2. Create a class hierarchy of `AbstractPrescriptor` (see diagram below) to invoke the creation of a specific complex treatment."
   ]
  },
  {
   "cell_type": "markdown",
   "metadata": {},
   "source": [
    "<img src=\"images/AbstractPrescriptor Class.svg\"/>"
   ]
  },
  {
   "cell_type": "code",
   "execution_count": 203,
   "metadata": {},
   "outputs": [],
   "source": [
    "class AbstractPrescriptor(ABC):\n",
    "    def __init__(self, drug_repository):\n",
    "        self.drug_repository = drug_repository\n",
    "        \n",
    "    @abstractmethod\n",
    "    def create_prescription(self) -> List[Drug]:\n",
    "        pass\n",
    "    \n",
    "\n",
    "class SeasonalFluPrescriptor(AbstractPrescriptor):\n",
    "    def __init__(self, drug_repository, antifever_dose, antivirus_dose):\n",
    "        super().__init__(drug_repository)\n",
    "        self.antifever_dose = antifever_dose\n",
    "        self.antivirus_dose = antivirus_dose\n",
    "\n",
    "    def create_prescription(self) -> List[Drug]:\n",
    "        return [\n",
    "            self.drug_repository.get_antifever(self.antifever_dose),\n",
    "            self.drug_repository.get_seasonal_antivirus(self.antivirus_dose)\n",
    "        ]\n",
    "\n",
    "    \n",
    "class CovidPrescriptor(AbstractPrescriptor):\n",
    "    def __init__(self, drug_repository, antifever_dose, antivirus_dose):\n",
    "        super().__init__(drug_repository)\n",
    "        self.antifever_dose = antifever_dose\n",
    "        self.antivirus_dose = antivirus_dose\n",
    "\n",
    "    def create_prescription(self) -> List[Drug]:\n",
    "        return [\n",
    "            self.drug_repository.get_antifever(antifever_dose),\n",
    "            self.drug_repository.get_sars_antivirus(antivirus_dose)\n",
    "        ]\n",
    "\n",
    "\n",
    "class CholeraPrescriptor(AbstractPrescriptor):\n",
    "    def __init__(self, drug_repository, rehydradation_dose, antivirus_dose):\n",
    "        super().__init__(drug_repository)\n",
    "        self.rehydradation_dose = rehydradation_dose\n",
    "        self.antivirus_dose = antivirus_dose\n",
    "\n",
    "    def create_prescription(self) -> List[Drug]:\n",
    "        return [\n",
    "            self.drug_repository.get_rehydration(rehydradation_dose),\n",
    "            self.drug_repository.get_cholera_antivirus(antivirus_dose)\n",
    "        ]\n",
    "\n",
    "\n",
    "def get_prescription_method(self, disease_type, drug_repository):\n",
    "    if InfectableType.SeasonalFlu == disease_type:\n",
    "        return SeasonalFluPrescriptor(drug_repository)\n",
    "\n",
    "    elif InfectableType.SARSCoV2 == disease_type:\n",
    "        return CovidPrescriptor(drug_repository)\n",
    "\n",
    "    elif InfectableType.SARSCoV2 == disease_type:\n",
    "        return CholeraPrescriptor(drug_repository)\n",
    "\n",
    "    else:\n",
    "        raise ValueError()"
   ]
  },
  {
   "cell_type": "code",
   "execution_count": 204,
   "metadata": {},
   "outputs": [],
   "source": [
    "class Hospital:\n",
    "    def __init__(self, capacity, doctor, drug_repository):\n",
    "        self.doctor = doctor\n",
    "        self.drug_repository = drug_repository\n",
    "        self.capacity = capacity\n",
    "        self.patients = []\n",
    "        self.tests = []\n",
    "\n",
    "    def _treat_patient(self, patient):\n",
    "        # 1. identify disease\n",
    "#         if patient.virus is not None:\n",
    "#             disease_type = patient.virus.get_type()\n",
    "        prescription_method = get_prescription_method(disease_type, self.drug_repository)\n",
    "        \n",
    "        # 2. understand dose\n",
    "        \n",
    "        # 3. compose treatment\n",
    "        prescription_drugs = prescription_method.create_prescription()\n",
    "        \n",
    "        # 4. apply treatment\n",
    "        for drug in prescription_drugs:\n",
    "            patient.take_drug(drug)\n",
    "            drug.apply(patient)\n",
    "\n",
    "    def treat_patients():\n",
    "        for patient in self._patients:\n",
    "            self._treat_patient(patient)"
   ]
  },
  {
   "cell_type": "markdown",
   "metadata": {},
   "source": [
    "---"
   ]
  },
  {
   "cell_type": "code",
   "execution_count": null,
   "metadata": {},
   "outputs": [],
   "source": []
  },
  {
   "cell_type": "markdown",
   "metadata": {},
   "source": [
    "## 5. Prototype: clone the object instead of creating the new one"
   ]
  },
  {
   "cell_type": "markdown",
   "metadata": {},
   "source": [
    "In some instances, creating a new object instance is best achieved by calling a method of the existing object instance."
   ]
  },
  {
   "cell_type": "markdown",
   "metadata": {},
   "source": [
    "**Why would we like to clone objects rather than instantiate them explicitly?**\n",
    "\n",
    "Acceptable reasons to use a Prototype pattern include:\n",
    "\n",
    " - Not being able to copy some of the fields of the object (e.g. private fields)\n",
    " - The need to save resources during object instantiation (e.g. a database call)\n",
    " - The need to avoid lots of boilerplate code used to parameterise the object\n",
    " \n",
    "**Example implementation without copy/deepcopy:**\n",
    "\n",
    "```python\n",
    "class Bacteria:\n",
    "    def __init__(self, size=None, lifetime=None, other=None):\n",
    "        if None is other:\n",
    "            self._size = size\n",
    "            self._lifetime = lifetime\n",
    "        else:\n",
    "            self._size = other._size\n",
    "            self._lifetime = other._lifetime\n",
    "    \n",
    "    def clone(self) -> Bacteria:\n",
    "        return Bacteria(self)\n",
    "\n",
    "    \n",
    "class PoisonousBacteria(Bacteria):\n",
    "    def __init__(self, poison, other=None, *args):\n",
    "        super().__init__(other=other, *args)\n",
    "        if None is other:\n",
    "            self._poison = poison\n",
    "        else:\n",
    "            self._poison = other._poison\n",
    "    \n",
    "    def clone(self) -> PoisonousBacteria:\n",
    "        return PoisonousBacteria(self)\n",
    "\n",
    "\n",
    "# Usage:\n",
    "bacteria = PoisonousBacteria(poison='poison', size=0.1, lifetime=100)\n",
    "other = bacteria.clone()\n",
    "```\n",
    "\n",
    "\n",
    "**Example implementation USING copy/deepcopy:**\n",
    "```python\n",
    "import copy\n",
    "\n",
    "\n",
    "class Bacteria:\n",
    "    def __init__(self, size, lifetime):\n",
    "        self._size = size\n",
    "        self._lifetime = lifetime\n",
    "    \n",
    "    def __copy__(self):\n",
    "        # shallow copy each of the objects\n",
    "        size = copy.copy(self._size)\n",
    "        lifetime = copy.copy(self._lifetime)\n",
    "        \n",
    "        # shallow copy of ourselves into the newly allocated object\n",
    "        new = self.__class__(size, lifetime)\n",
    "        new.__dict__.update(self.__dict__)\n",
    "        \n",
    "        return new\n",
    "\n",
    "    def __deepcopy__(self, memo={}):\n",
    "        # shallow copy each of the objects\n",
    "        size = copy.deepcopy(self._size, memo)\n",
    "        lifetime = copy.deepcopy(self._lifetime, memo)\n",
    "        \n",
    "        # shallow copy of ourselves into the newly allocated object\n",
    "        new = self.__class__(size, lifetime)\n",
    "        new.__dict__ = copy.deepcopy(self.__dict__, memo)\n",
    "        \n",
    "        return new\n",
    "\n",
    "    \n",
    "# Usage:\n",
    "bacteria = Bacteria(size=0.1, lifetime=100)\n",
    "other = copy.deepcopy(bacteria)\n",
    "\n",
    "```"
   ]
  },
  {
   "cell_type": "code",
   "execution_count": null,
   "metadata": {},
   "outputs": [],
   "source": []
  }
 ],
 "metadata": {
  "kernelspec": {
   "display_name": "Python 3",
   "language": "python",
   "name": "python3"
  },
  "language_info": {
   "codemirror_mode": {
    "name": "ipython",
    "version": 3
   },
   "file_extension": ".py",
   "mimetype": "text/x-python",
   "name": "python",
   "nbconvert_exporter": "python",
   "pygments_lexer": "ipython3",
   "version": "3.6.9"
  }
 },
 "nbformat": 4,
 "nbformat_minor": 2
}
