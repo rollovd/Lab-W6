{
 "cells": [
  {
   "cell_type": "markdown",
   "metadata": {},
   "source": [
    "This is a tutorial notebook on object-oriented software design, prepared for the Foundations of Software Engineering (FSE v2020.1, https://github.com/adasegroup/FSE2020_seminars) at Skoltech (http://skoltech.ru).\n",
    "\n",
    "Copyright 2020 by Alexey Artemov and ADASE Lab. "
   ]
  },
  {
   "cell_type": "markdown",
   "metadata": {},
   "source": [
    "# FSE-08: Object-Oriented Software Design: Structural Design Patterns"
   ]
  },
  {
   "cell_type": "markdown",
   "metadata": {},
   "source": [
    "## 1. Decorator"
   ]
  },
  {
   "cell_type": "markdown",
   "metadata": {},
   "source": [
    "In some instances, we would like to disable instantiation of more than 1 object of a particular class. \n",
    "\n",
    "**Why would we like to have only 1 object of a class?**\n",
    "\n",
    "Acceptable reasons to use a Singleton include:\n",
    "\n",
    " - Access to a \"heavy\" shared resource (e.g. a database), preferred that an access to the resource will be requested from multiple, disparate parts of the system.\n",
    " - \"Logging class rationale\": heavy re-use of the same class instance by lots of callers \n",
    " > A Singleton can be used instead of a single instance of a class because a logging class usually needs to be used over and over again ad nauseam by every class in a project. If every class uses this logging class, dependency injection becomes cumbersome. ([When should I use the singleton?](https://stackoverflow.com/questions/228164/on-design-patterns-when-should-i-use-the-singleton))\n",
    " \n",
    " \n",
    " \n",
    "**Example implementation:**\n",
    "\n",
    "(more variants at [Creating a singleton in Python](https://stackoverflow.com/questions/6760685/creating-a-singleton-in-python))\n",
    "\n",
    "```python\n",
    "class Singleton:\n",
    "    __instance = None\n",
    "    def __new__(cls, *args):\n",
    "        if cls.__instance is None:\n",
    "            cls.__instance = object.__new__(cls, *args)\n",
    "        return cls.__instance\n",
    "```"
   ]
  },
  {
   "cell_type": "markdown",
   "metadata": {},
   "source": [
    "**Task:** \n",
    "1. Explain where can a Singleton pattern be used within the virus spread modelling system.\n",
    "2. Implement a Singleton pattern with the State class."
   ]
  },
  {
   "cell_type": "code",
   "execution_count": null,
   "metadata": {},
   "outputs": [],
   "source": []
  },
  {
   "cell_type": "markdown",
   "metadata": {},
   "source": [
    "---"
   ]
  },
  {
   "cell_type": "markdown",
   "metadata": {},
   "source": [
    "## 2. Factory method: single point of access to creation of objects"
   ]
  },
  {
   "cell_type": "markdown",
   "metadata": {},
   "source": [
    "If you're having a number of similar object classes, it is convenient to provide a single point of access to generating instances of these classes."
   ]
  },
  {
   "cell_type": "markdown",
   "metadata": {},
   "source": [
    "**Why would we like to have a function rather than calling constructors explicitly?**\n",
    "\n",
    "Acceptable reasons to use a Factory method include:\n",
    "\n",
    " - Don't need (or know how) the exact class of the object to be instantiated, or, as a client, would like to delegate the decision about instantiation to a different class.\n",
    " \n",
    " \n",
    "**Example implementation:**\n",
    "\n",
    "```python\n",
    "class Person:\n",
    "    def get_name(self):\n",
    "        pass\n",
    "\n",
    "class Villager(Person):\n",
    "    def get_name(self):\n",
    "        return \"Village Person\"\n",
    "        \n",
    "class CityPerson(Person):\n",
    "    def get_name(self):\n",
    "        return \"City Person\"\n",
    "\n",
    "class PersonType(Enum):\n",
    "    Rural = 1\n",
    "    Urban = 2\n",
    "    \n",
    "def get_person(person_type: PersonType):\n",
    "    if PersonType.Rural == PersonType:\n",
    "        return Villager()\n",
    "    elif PersonType.Urban == PersonType:\n",
    "        return CityPerson()\n",
    "    else:\n",
    "        raise ValueError()\n",
    "```"
   ]
  },
  {
   "cell_type": "markdown",
   "metadata": {},
   "source": [
    "**Task:** where can a Factory Method pattern be used within the virus spread modelling system?"
   ]
  },
  {
   "cell_type": "markdown",
   "metadata": {},
   "source": [
    "---"
   ]
  },
  {
   "cell_type": "markdown",
   "metadata": {},
   "source": [
    "## 3. Abstract factory"
   ]
  },
  {
   "cell_type": "markdown",
   "metadata": {},
   "source": []
  },
  {
   "cell_type": "code",
   "execution_count": null,
   "metadata": {},
   "outputs": [],
   "source": []
  },
  {
   "cell_type": "markdown",
   "metadata": {},
   "source": [
    "**Example implementation:**\n",
    "\n",
    "```python\n",
    "\n",
    "```"
   ]
  },
  {
   "cell_type": "code",
   "execution_count": null,
   "metadata": {},
   "outputs": [],
   "source": []
  },
  {
   "cell_type": "code",
   "execution_count": null,
   "metadata": {},
   "outputs": [],
   "source": []
  },
  {
   "cell_type": "code",
   "execution_count": null,
   "metadata": {},
   "outputs": [],
   "source": []
  },
  {
   "cell_type": "markdown",
   "metadata": {},
   "source": [
    "## 4. Builder: parameterise the construction process of a complex object"
   ]
  },
  {
   "cell_type": "markdown",
   "metadata": {},
   "source": [
    "If \n",
    " - you're having an object (Client, Director) that has an idea of WHAT the contents of SOMETHING should be,\n",
    " - but you do not want to concern this object with the actual intantiation of SOMETHING,\n",
    "\n",
    "then\n",
    " - you can delegate the creation to another object (Service, Builder)\n",
    " - that has an idea of HOW to actually instantiate SOMETHING."
   ]
  },
  {
   "cell_type": "markdown",
   "metadata": {},
   "source": [
    "**Why would we like to have a partially parameterized Builder rather than calling constructors explicitly?**\n",
    "\n",
    "Acceptable reasons to use a Builder pattern include ([What are the advantages of Builder Pattern of GoF?](https://softwareengineering.stackexchange.com/questions/345688/what-are-the-advantages-of-builder-pattern-of-gof)):\n",
    "\n",
    " - The object cannot be constructed in one call. This might be the case when the product is immutable, or contains complex object graphs e.g. with circular references.\n",
    " - You have one build process that should build many different kinds of products. \n",
    " \n",
    "**Example implementation:**\n",
    "\n",
    "```python\n",
    "class Movie:\n",
    "    def __init__(self, actors, scenes, screenplay):\n",
    "        self._actors = actors\n",
    "        self._scenes = scenes\n",
    "        self._screenplay = screenplay\n",
    "\n",
    "\n",
    "class MovieDirector:\n",
    "    '''Someone who knows the parameterization of an object to be constructed, \n",
    "    i.e. knows WHAT to build.'''\n",
    "    def __init__(self, builder):\n",
    "        self._builder = builder\n",
    "\n",
    "    def create_movie(self):\n",
    "        self._builder._screenplay = [\n",
    "            'The girl disappears mysteriously in SF.',\n",
    "            'A brave detective is on the journey to find the girl.'\n",
    "        ]\n",
    "        self._builder._actors = ['Natalie Portman', 'Brad Pitt']\n",
    "\n",
    "\n",
    "class MovieOperator:\n",
    "    '''Someone who knows HOW to build but expects more information on specific parameterization.'''\n",
    "    def __init__(self):\n",
    "        self._scenes = ['Golden Gate Bridge', 'San Francisco suburbs']\n",
    "        self._screenplay = None\n",
    "        self._actors = None\n",
    "        \n",
    "    def shoot_movie(self):\n",
    "        movie = Movie(self._actors, self._scenes, self._screenplay)\n",
    "        return movie\n",
    "    \n",
    "    \n",
    "# Usage example:\n",
    "    operator = MovieOperator()\n",
    "    director = MovieDirector(operator)\n",
    "    director.create_movie()\n",
    "    movie = operator.shoot_movie()\n",
    "```"
   ]
  },
  {
   "cell_type": "markdown",
   "metadata": {},
   "source": [
    "**Task:** where can a Builder pattern be used within the virus spread modelling system?"
   ]
  },
  {
   "cell_type": "markdown",
   "metadata": {},
   "source": [
    "---"
   ]
  },
  {
   "cell_type": "code",
   "execution_count": null,
   "metadata": {},
   "outputs": [],
   "source": []
  },
  {
   "cell_type": "markdown",
   "metadata": {},
   "source": [
    "## 5. Prototype: clone the object instead of creating the new one"
   ]
  },
  {
   "cell_type": "markdown",
   "metadata": {},
   "source": [
    "In some instances, creating a new object instance is best achieved by calling a method of the existing object instance."
   ]
  },
  {
   "cell_type": "markdown",
   "metadata": {},
   "source": [
    "**Why would we like to clone objects rather than instantiate them explicitly?**\n",
    "\n",
    "Acceptable reasons to use a Prototype pattern include:\n",
    "\n",
    " - Not being able to copy some of the fields of the object (e.g. private fields)\n",
    " - The need to save resources during object instantiation (e.g. a database call)\n",
    " - The need to avoid lots of boilerplate code used to parameterise the object\n",
    " \n",
    "**Example implementation without copy/deepcopy:**\n",
    "\n",
    "```python\n",
    "class Bacteria:\n",
    "    def __init__(self, size=None, lifetime=None, other=None):\n",
    "        if None is other:\n",
    "            self._size = size\n",
    "            self._lifetime = lifetime\n",
    "        else:\n",
    "            self._size = other._size\n",
    "            self._lifetime = other._lifetime\n",
    "    \n",
    "    def clone(self) -> Bacteria:\n",
    "        return Bacteria(self)\n",
    "\n",
    "    \n",
    "class PoisonousBacteria(Bacteria):\n",
    "    def __init__(self, poison, other=None, *args):\n",
    "        super().__init__(other=other, *args)\n",
    "        if None is other:\n",
    "            self._poison = poison\n",
    "        else:\n",
    "            self._poison = other._poison\n",
    "    \n",
    "    def clone(self) -> PoisonousBacteria:\n",
    "        return PoisonousBacteria(self)\n",
    "\n",
    "\n",
    "# Usage:\n",
    "bacteria = PoisonousBacteria(poison='poison', size=0.1, lifetime=100)\n",
    "other = bacteria.clone()\n",
    "```\n",
    "\n",
    "\n",
    "**Example implementation USING copy/deepcopy:**\n",
    "```python\n",
    "import copy\n",
    "\n",
    "\n",
    "class Bacteria:\n",
    "    def __init__(self, size, lifetime):\n",
    "        self._size = size\n",
    "        self._lifetime = lifetime\n",
    "    \n",
    "    def __copy__(self):\n",
    "        # shallow copy each of the objects\n",
    "        size = copy.copy(self._size)\n",
    "        lifetime = copy.copy(self._lifetime)\n",
    "        \n",
    "        # shallow copy of ourselves into the newly allocated object\n",
    "        new = self.__class__(size, lifetime)\n",
    "        new.__dict__.update(self.__dict__)\n",
    "        \n",
    "        return new\n",
    "\n",
    "    def __deepcopy__(self, memo={}):\n",
    "        # shallow copy each of the objects\n",
    "        size = copy.deepcopy(self._size, memo)\n",
    "        lifetime = copy.deepcopy(self._lifetime, memo)\n",
    "        \n",
    "        # shallow copy of ourselves into the newly allocated object\n",
    "        new = self.__class__(size, lifetime)\n",
    "        new.__dict__ = copy.deepcopy(self.__dict__, memo)\n",
    "        \n",
    "        return new\n",
    "\n",
    "    \n",
    "# Usage:\n",
    "bacteria = Bacteria(size=0.1, lifetime=100)\n",
    "other = copy.deepcopy(bacteria)\n",
    "\n",
    "```"
   ]
  },
  {
   "cell_type": "code",
   "execution_count": null,
   "metadata": {},
   "outputs": [],
   "source": []
  }
 ],
 "metadata": {
  "kernelspec": {
   "display_name": "Python 3",
   "language": "python",
   "name": "python3"
  },
  "language_info": {
   "codemirror_mode": {
    "name": "ipython",
    "version": 3
   },
   "file_extension": ".py",
   "mimetype": "text/x-python",
   "name": "python",
   "nbconvert_exporter": "python",
   "pygments_lexer": "ipython3",
   "version": "3.6.9"
  }
 },
 "nbformat": 4,
 "nbformat_minor": 2
}
