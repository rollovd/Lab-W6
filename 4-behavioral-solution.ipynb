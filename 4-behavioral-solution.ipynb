{
 "cells": [
  {
   "cell_type": "markdown",
   "metadata": {},
   "source": [
    "This is a tutorial notebook on object-oriented software design, prepared for the Foundations of Software Engineering (FSE v2020.1, https://github.com/adasegroup/FSE2020_seminars) at Skoltech (http://skoltech.ru).\n",
    "\n",
    "Copyright 2020 by Alexey Artemov and ADASE Lab. "
   ]
  },
  {
   "cell_type": "markdown",
   "metadata": {},
   "source": [
    "# FSE-08: Object-Oriented Software Design: Behavioral Design Patterns"
   ]
  },
  {
   "cell_type": "markdown",
   "metadata": {},
   "source": [
    "## 1. State: change behavior when changing internal state"
   ]
  },
  {
   "cell_type": "markdown",
   "metadata": {},
   "source": [
    "When you need to represent an object that may be in a number of distinct states, as if there were a variety of different objects.\n",
    "\n",
    "**Why would we like to have a stateful object?**\n",
    "\n",
    "Acceptable reasons to use a State pattern include:\n",
    "\n",
    " - Access to a \"heavy\" shared resource (e.g. a database), preferred that an access to the resource will be requested from multiple, disparate parts of the system.\n",
    " - \"Logging class rationale\": heavy re-use of the same class instance by lots of callers \n",
    " > A Singleton can be used instead of a single instance of a class because a logging class usually needs to be used over and over again ad nauseam by every class in a project. If every class uses this logging class, dependency injection becomes cumbersome. ([When should I use the singleton?](https://stackoverflow.com/questions/228164/on-design-patterns-when-should-i-use-the-singleton))\n",
    " \n",
    " \n",
    "\n",
    "**Example implementation:**\n",
    "\n",
    "\n",
    "```python\n",
    "class ATMMachine:\n",
    "    def __init__(self, amount):\n",
    "        self._amount = amount\n",
    "        self._state = NoCash(self) if amount == 0 else Working(self)\n",
    "    \n",
    "    def set_state(self, state):\n",
    "        self._state = state\n",
    "        \n",
    "    def get_amount(self): \n",
    "        return self._amount\n",
    "    \n",
    "    def set_amount(self, amount):\n",
    "        self._amount = amount\n",
    "    \n",
    "    def withdraw(self, amount):\n",
    "        self._state.withdraw(amount)\n",
    "    \n",
    "    def refill(self, amount):\n",
    "        self._state.refill(amount)\n",
    "\n",
    "\n",
    "from abc import ABC, abstractmethod\n",
    "\n",
    "class State(ABC):\n",
    "    def __init__(self, atm):\n",
    "        self._atm = atm\n",
    "\n",
    "    @abstractmethod\n",
    "    def withdraw(self, amount):\n",
    "        pass\n",
    "    \n",
    "    @abstractmethod\n",
    "    def refill(self, amount):\n",
    "        pass\n",
    "\n",
    "\n",
    "class NoCash(State):\n",
    "    def withdraw(self, amount):\n",
    "        print('no cash')\n",
    "    \n",
    "    def refill(self, amount):\n",
    "        self._atm.set_amount(self._atm.get_amount() + amount)\n",
    "        self._atm.set_state(\n",
    "            Working(self._atm)\n",
    "        )\n",
    "\n",
    "\n",
    "class Working(State):\n",
    "    def withdraw(self, amount):\n",
    "        if 0 < self._atm.get_amount() <= amount:\n",
    "            amount_to_withdraw = amount - self._atm.get_amount()\n",
    "        else:\n",
    "            amount_to_withdraw = amount\n",
    "        \n",
    "        self._atm.set_amount(self._atm.get_amount() - amount_to_withdraw)\n",
    "        if self._atm.get_amount() == 0:\n",
    "            self._atm.set_state(\n",
    "                NoCash(self._atm)\n",
    "            )\n",
    "\n",
    "    def refill(self, amount):\n",
    "        self._atm.set_amount(self._atm.get_amount() + amount)\n",
    "\n",
    "            \n",
    "# Usage:\n",
    "model = ATM(amount=1000)\n",
    "model.withdraw(500)\n",
    "model.withdraw(500)  # State -> NoCash\n",
    "model.withdraw(100)\n",
    "model.refill(100)    # State -> Working again\n",
    "```"
   ]
  },
  {
   "cell_type": "markdown",
   "metadata": {},
   "source": [
    "**Task:** \n",
    "1. Explain where can a State pattern be used within the virus spread modelling system.\n",
    "2. Implement a State pattern with the Person class, modeling the infection/recovery chain."
   ]
  },
  {
   "cell_type": "code",
   "execution_count": 10,
   "metadata": {},
   "outputs": [],
   "source": [
    "class Person:\n",
    "    MAX_TEMPERATURE_TO_SURVIVE = 44.0\n",
    "    LOWEST_WATER_PCT_TO_SURVIVE = 0.4\n",
    "    \n",
    "    LIFE_THREATENING_TEMPERATURE = 40.0\n",
    "    LIFE_THREATENING_WATER_PCT = 0.5\n",
    "    \n",
    "    def __init__(self, home_position=(0, 0), age=30, weight=70):\n",
    "        self.virus = None\n",
    "        self.antibody_types = set()\n",
    "        self.temperature = 36.6\n",
    "        self.weight = weight\n",
    "        self.water = 0.6 * self.weight\n",
    "        self.age = age\n",
    "        self.home_position = home_position\n",
    "        self.position = home_position\n",
    "        self.state = Healthy(self)\n",
    "    \n",
    "    def day_actions(self):\n",
    "        self.state.day_actions()\n",
    "\n",
    "    def night_actions(self):\n",
    "        self.state.night_actions()\n",
    "\n",
    "    def interact(self, other):\n",
    "        self.state.interact(other)\n",
    "\n",
    "    def get_infected(self, virus):\n",
    "        self.state.get_infected(virus)\n",
    "    \n",
    "    def is_close_to(self, other):\n",
    "        return self.position == other.position\n",
    "    \n",
    "    def fightvirus(self):\n",
    "        if self.virus:\n",
    "            self.virus.strength -= (3.0 / self.age)\n",
    "        \n",
    "    def progress_disease(self):\n",
    "        if self.virus:\n",
    "            self.virus.cause_symptoms(self)\n",
    "\n",
    "    def set_state(self, state):\n",
    "        self.state = state\n",
    "    \n",
    "    def is_life_threatening_condition(self):\n",
    "        return self.temperature >= Person.LIFE_THREATENING_TEMPERATURE or \\\n",
    "            self.water / self.weight <= Person.LIFE_THREATENING_WATER_PCT\n",
    "    \n",
    "    def is_life_incompatible_condition(self):        \n",
    "        return self.temperature >= Person.MAX_TEMPERATURE_TO_SURVIVE or \\\n",
    "            self.water / self.weight <= Person.LOWEST_WATER_PCT_TO_SURVIVE"
   ]
  },
  {
   "cell_type": "code",
   "execution_count": 11,
   "metadata": {},
   "outputs": [],
   "source": [
    "from enum import Enum\n",
    "from abc import ABC, abstractmethod\n",
    "from random import expovariate, uniform, randint\n",
    "\n",
    "class Infectable(ABC):\n",
    "    def __init__(self, strength=1.0, contag=1.0):\n",
    "        # contag is for contagiousness so we have less typos\n",
    "        self.strength = strength\n",
    "        self.contag = contag\n",
    "\n",
    "    @abstractmethod\n",
    "    def cause_symptoms(self, person):\n",
    "        pass\n",
    "    \n",
    "    \n",
    "class SeasonalFluVirus(Infectable):\n",
    "    def cause_symptoms(self, person):\n",
    "        person.temperature += 0.25\n",
    "\n",
    "    def get_type(self):\n",
    "        return InfectableType.SeasonalFlu\n",
    "    \n",
    "    \n",
    "class SARSCoV2(Infectable):\n",
    "    def cause_symptoms(self, person):\n",
    "        person._temperature += 0.5\n",
    "\n",
    "    def get_type(self):\n",
    "        return InfectableType.SARSCoV2\n",
    "\n",
    "\n",
    "class Cholera(Infectable):\n",
    "    def cause_symptoms(self, person):\n",
    "        person.water -= 1.0\n",
    "\n",
    "    def get_type(self):\n",
    "        return InfectableType.Cholera\n",
    "    \n",
    "\n",
    "class InfectableType(Enum):\n",
    "    SeasonalFlu = 1\n",
    "    SARSCoV2 = 2\n",
    "    Cholera = 3\n",
    "\n",
    "    \n",
    "def get_infectable(infectable_type: InfectableType):\n",
    "    if InfectableType.SeasonalFlu == infectable_type:\n",
    "        return SeasonalFluVirus(strength=expovariate(10.0), contag=expovariate(10.0))\n",
    "    \n",
    "    elif InfectableType.SARSCoV2 == infectable_type:\n",
    "        return SARSCoV2(strength=expovariate(2.0), contag=expovariate(2.0))\n",
    "    \n",
    "    elif InfectableType.Cholera == infectable_type:\n",
    "        return Cholera(strength=expovariate(2.0), contag=expovariate(2.0))\n",
    "    \n",
    "    else:\n",
    "        raise ValueError()"
   ]
  },
  {
   "cell_type": "code",
   "execution_count": 3,
   "metadata": {},
   "outputs": [],
   "source": [
    "class DepartmentOfHealth:\n",
    "    def __init__(self):\n",
    "        pass\n",
    "    \n",
    "    def monitor_situation(self):\n",
    "        pass\n",
    "    \n",
    "    def issue_policy(self):\n",
    "        pass\n",
    "    \n",
    "    def hospitalize(self, person):\n",
    "        print('hospitalization')\n",
    "        pass"
   ]
  },
  {
   "cell_type": "code",
   "execution_count": 4,
   "metadata": {},
   "outputs": [],
   "source": [
    "from abc import ABC, abstractmethod\n",
    "\n",
    "\n",
    "min_i, max_i = 0, 100\n",
    "min_j, max_j = 0, 100\n",
    "    \n",
    "\n",
    "class State(ABC):\n",
    "    def __init__(self, person): \n",
    "        self.person = person\n",
    "        \n",
    "    @abstractmethod\n",
    "    def day_actions(self): pass\n",
    "\n",
    "    @abstractmethod\n",
    "    def night_actions(self): pass\n",
    "\n",
    "    @abstractmethod\n",
    "    def interact(self, other): pass\n",
    "\n",
    "    @abstractmethod\n",
    "    def get_infected(self, virus): pass\n",
    "\n",
    "\n",
    "class Healthy(State):\n",
    "    def day_actions(self):\n",
    "        # different for CommunityPerson?!\n",
    "        self.person.position = (randint(min_j, max_j), randint(min_i, max_i))\n",
    "\n",
    "    def night_actions(self):\n",
    "        self.person.position = self.person.home_position\n",
    "\n",
    "    def interact(self, other: Person): pass\n",
    "\n",
    "    def get_infected(self, virus):\n",
    "        if virus.get_type() not in self.person.antibody_types:\n",
    "            self.person.virus = virus\n",
    "            self.person.set_state(AsymptomaticSick(self.person))\n",
    "\n",
    "\n",
    "class AsymptomaticSick(State):\n",
    "    DAYS_SICK_TO_FEEL_BAD = 2\n",
    "    \n",
    "    def __init__(self, person):\n",
    "        super().__init__(person)\n",
    "        self.days_sick = 0\n",
    "\n",
    "    def day_actions(self):\n",
    "        # different for CommunityPerson?!\n",
    "        self.person.position = (randint(min_j, max_j), randint(min_i, max_i))\n",
    "\n",
    "    def night_actions(self):\n",
    "        self.person.position = self.person.home_position\n",
    "        if self.days_sick == AsymptomaticSick.DAYS_SICK_TO_FEEL_BAD:\n",
    "            self.person.set_state(SymptomaticSick(self.person))\n",
    "        self.days_sick += 1\n",
    "\n",
    "    def interact(self, other):\n",
    "        other.get_infected(self.person.virus)\n",
    "\n",
    "    def get_infected(self, virus): pass\n",
    "\n",
    "\n",
    "class SymptomaticSick(State):\n",
    "    def day_actions(self):\n",
    "        self.person.progress_disease()\n",
    "        \n",
    "        if self.person.is_life_threatening_condition():\n",
    "            health_dept = DepartmentOfHealth()\n",
    "            health_dept.hospitalize(self.person)\n",
    "\n",
    "        if self.person.is_life_incompatible_condition():\n",
    "            self.person.set_state(Dead(self.person))\n",
    "        \n",
    "    def night_actions(self):\n",
    "        # try to fight the virus\n",
    "        self.person.fightvirus()\n",
    "        if self.person.virus.strength <= 0:\n",
    "            self.person.set_state(Healthy(self.person))\n",
    "            self.person.antibody_types.add(self.person.virus.get_type())\n",
    "            self.person.virus = None\n",
    "\n",
    "    def interact(self, other): pass\n",
    "\n",
    "    def get_infected(self, virus): pass\n",
    "\n",
    "    \n",
    "class Dead(State):\n",
    "    def day_actions(self): pass\n",
    "\n",
    "    def night_actions(self): pass\n",
    "\n",
    "    def interact(self, other): pass\n",
    "\n",
    "    def get_infected(self, virus): pass\n"
   ]
  },
  {
   "cell_type": "code",
   "execution_count": 41,
   "metadata": {},
   "outputs": [],
   "source": [
    "p = Person(age=40, weight=80)"
   ]
  },
  {
   "cell_type": "code",
   "execution_count": 42,
   "metadata": {},
   "outputs": [],
   "source": [
    "p.get_infected(SeasonalFluVirus(strength=1.0))"
   ]
  },
  {
   "cell_type": "code",
   "execution_count": 34,
   "metadata": {
    "scrolled": false
   },
   "outputs": [
    {
     "name": "stdout",
     "output_type": "stream",
     "text": [
      "0 36.6 48.0 <__main__.AsymptomaticSick object at 0x7f0660094400> 1.0\n",
      "1 36.6 48.0 <__main__.AsymptomaticSick object at 0x7f0660094400> 1.0\n",
      "2 36.6 48.0 <__main__.SymptomaticSick object at 0x7f06600404a8> 1.0\n",
      "3 36.85 48.0 <__main__.SymptomaticSick object at 0x7f06600404a8> 0.925\n",
      "4 37.1 48.0 <__main__.SymptomaticSick object at 0x7f06600404a8> 0.8500000000000001\n",
      "5 37.35 48.0 <__main__.SymptomaticSick object at 0x7f06600404a8> 0.7750000000000001\n",
      "6 37.6 48.0 <__main__.SymptomaticSick object at 0x7f06600404a8> 0.7000000000000002\n",
      "7 37.85 48.0 <__main__.SymptomaticSick object at 0x7f06600404a8> 0.6250000000000002\n",
      "8 38.1 48.0 <__main__.SymptomaticSick object at 0x7f06600404a8> 0.5500000000000003\n",
      "9 38.35 48.0 <__main__.SymptomaticSick object at 0x7f06600404a8> 0.47500000000000026\n",
      "10 38.6 48.0 <__main__.SymptomaticSick object at 0x7f06600404a8> 0.40000000000000024\n",
      "11 38.85 48.0 <__main__.SymptomaticSick object at 0x7f06600404a8> 0.32500000000000023\n",
      "12 39.1 48.0 <__main__.SymptomaticSick object at 0x7f06600404a8> 0.2500000000000002\n",
      "13 39.35 48.0 <__main__.SymptomaticSick object at 0x7f06600404a8> 0.1750000000000002\n",
      "14 39.6 48.0 <__main__.SymptomaticSick object at 0x7f06600404a8> 0.10000000000000021\n",
      "15 39.85 48.0 <__main__.SymptomaticSick object at 0x7f06600404a8> 0.025000000000000216\n",
      "hospitalization\n",
      "16 40.1 48.0 <__main__.Healthy object at 0x7f066008cb38> None\n",
      "17 40.1 48.0 <__main__.Healthy object at 0x7f066008cb38> None\n",
      "18 40.1 48.0 <__main__.Healthy object at 0x7f066008cb38> None\n",
      "19 40.1 48.0 <__main__.Healthy object at 0x7f066008cb38> None\n",
      "20 40.1 48.0 <__main__.Healthy object at 0x7f066008cb38> None\n",
      "21 40.1 48.0 <__main__.Healthy object at 0x7f066008cb38> None\n",
      "22 40.1 48.0 <__main__.Healthy object at 0x7f066008cb38> None\n",
      "23 40.1 48.0 <__main__.Healthy object at 0x7f066008cb38> None\n",
      "24 40.1 48.0 <__main__.Healthy object at 0x7f066008cb38> None\n",
      "25 40.1 48.0 <__main__.Healthy object at 0x7f066008cb38> None\n",
      "26 40.1 48.0 <__main__.Healthy object at 0x7f066008cb38> None\n",
      "27 40.1 48.0 <__main__.Healthy object at 0x7f066008cb38> None\n",
      "28 40.1 48.0 <__main__.Healthy object at 0x7f066008cb38> None\n",
      "29 40.1 48.0 <__main__.Healthy object at 0x7f066008cb38> None\n",
      "30 40.1 48.0 <__main__.Healthy object at 0x7f066008cb38> None\n",
      "31 40.1 48.0 <__main__.Healthy object at 0x7f066008cb38> None\n",
      "32 40.1 48.0 <__main__.Healthy object at 0x7f066008cb38> None\n",
      "33 40.1 48.0 <__main__.Healthy object at 0x7f066008cb38> None\n",
      "34 40.1 48.0 <__main__.Healthy object at 0x7f066008cb38> None\n",
      "35 40.1 48.0 <__main__.Healthy object at 0x7f066008cb38> None\n",
      "36 40.1 48.0 <__main__.Healthy object at 0x7f066008cb38> None\n",
      "37 40.1 48.0 <__main__.Healthy object at 0x7f066008cb38> None\n",
      "38 40.1 48.0 <__main__.Healthy object at 0x7f066008cb38> None\n",
      "39 40.1 48.0 <__main__.Healthy object at 0x7f066008cb38> None\n",
      "40 40.1 48.0 <__main__.Healthy object at 0x7f066008cb38> None\n",
      "41 40.1 48.0 <__main__.Healthy object at 0x7f066008cb38> None\n",
      "42 40.1 48.0 <__main__.Healthy object at 0x7f066008cb38> None\n",
      "43 40.1 48.0 <__main__.Healthy object at 0x7f066008cb38> None\n",
      "44 40.1 48.0 <__main__.Healthy object at 0x7f066008cb38> None\n",
      "45 40.1 48.0 <__main__.Healthy object at 0x7f066008cb38> None\n",
      "46 40.1 48.0 <__main__.Healthy object at 0x7f066008cb38> None\n",
      "47 40.1 48.0 <__main__.Healthy object at 0x7f066008cb38> None\n",
      "48 40.1 48.0 <__main__.Healthy object at 0x7f066008cb38> None\n",
      "49 40.1 48.0 <__main__.Healthy object at 0x7f066008cb38> None\n",
      "50 40.1 48.0 <__main__.Healthy object at 0x7f066008cb38> None\n",
      "51 40.1 48.0 <__main__.Healthy object at 0x7f066008cb38> None\n",
      "52 40.1 48.0 <__main__.Healthy object at 0x7f066008cb38> None\n",
      "53 40.1 48.0 <__main__.Healthy object at 0x7f066008cb38> None\n",
      "54 40.1 48.0 <__main__.Healthy object at 0x7f066008cb38> None\n",
      "55 40.1 48.0 <__main__.Healthy object at 0x7f066008cb38> None\n",
      "56 40.1 48.0 <__main__.Healthy object at 0x7f066008cb38> None\n",
      "57 40.1 48.0 <__main__.Healthy object at 0x7f066008cb38> None\n",
      "58 40.1 48.0 <__main__.Healthy object at 0x7f066008cb38> None\n",
      "59 40.1 48.0 <__main__.Healthy object at 0x7f066008cb38> None\n"
     ]
    }
   ],
   "source": [
    "for day in range(60):\n",
    "    p.day_actions()\n",
    "    p.night_actions()\n",
    "    print(day, p.temperature, p.water, p.state, p.virus.strength if p.virus else None)"
   ]
  },
  {
   "cell_type": "code",
   "execution_count": 8,
   "metadata": {},
   "outputs": [],
   "source": [
    "p.get_infected(SeasonalFluVirus(strength=1.0))"
   ]
  },
  {
   "cell_type": "code",
   "execution_count": 9,
   "metadata": {},
   "outputs": [
    {
     "name": "stdout",
     "output_type": "stream",
     "text": [
      "0 40.1 48.0 <__main__.Healthy object at 0x7f0660099400> None\n",
      "1 40.1 48.0 <__main__.Healthy object at 0x7f0660099400> None\n",
      "2 40.1 48.0 <__main__.Healthy object at 0x7f0660099400> None\n",
      "3 40.1 48.0 <__main__.Healthy object at 0x7f0660099400> None\n",
      "4 40.1 48.0 <__main__.Healthy object at 0x7f0660099400> None\n",
      "5 40.1 48.0 <__main__.Healthy object at 0x7f0660099400> None\n",
      "6 40.1 48.0 <__main__.Healthy object at 0x7f0660099400> None\n",
      "7 40.1 48.0 <__main__.Healthy object at 0x7f0660099400> None\n",
      "8 40.1 48.0 <__main__.Healthy object at 0x7f0660099400> None\n",
      "9 40.1 48.0 <__main__.Healthy object at 0x7f0660099400> None\n"
     ]
    }
   ],
   "source": [
    "for day in range(10):\n",
    "    p.day_actions()\n",
    "    p.night_actions()\n",
    "    print(day, p.temperature, p.water, p.state, p.virus.strength if p.virus else None)"
   ]
  },
  {
   "cell_type": "markdown",
   "metadata": {},
   "source": [
    "---"
   ]
  },
  {
   "cell_type": "markdown",
   "metadata": {},
   "source": [
    "## 2. Observer"
   ]
  },
  {
   "cell_type": "code",
   "execution_count": null,
   "metadata": {},
   "outputs": [],
   "source": [
    "class Observer:\n",
    "    \n",
    "    "
   ]
  },
  {
   "cell_type": "markdown",
   "metadata": {},
   "source": [
    "## 3. Template method"
   ]
  },
  {
   "cell_type": "markdown",
   "metadata": {},
   "source": [
    "TBD"
   ]
  },
  {
   "cell_type": "markdown",
   "metadata": {},
   "source": [
    "## 4. Strategy"
   ]
  },
  {
   "cell_type": "markdown",
   "metadata": {},
   "source": [
    "TBD"
   ]
  },
  {
   "cell_type": "markdown",
   "metadata": {},
   "source": [
    " - States store a reference to the context object that contains them. Strategies do not.\n",
    " - States are allowed to replace themselves (IE: to change the state of the context object to something else), while Strategies are not.\n",
    " - Strategies are passed to the context object as parameters, while States are created by the context object itself.\n",
    " - Strategies only handle a single, specific task, while States provide the underlying implementation for everything (or most everything) the context object does."
   ]
  },
  {
   "cell_type": "code",
   "execution_count": 11,
   "metadata": {},
   "outputs": [],
   "source": [
    "q = [(0, 10), (1, 11), (2, 11), (3, 11), (4, 11), (5, 11), (6, 12), (7, 12), (8, 10), (9, 8), (10, 9), (11, 9), (12, 9), (13, 7), (14, 7), (15, 7), (16, 7), (17, 7), (18, 7), (19, 7), (20, 7), (21, 7), (22, 7), (23, 7), (24, 7), (25, 7), (26, 7), (27, 7), (28, 7), (29, 7), (30, 7), (31, 7), (32, 7), (33, 7), (34, 7), (35, 7), (36, 7), (37, 7), (38, 7), (39, 7), (40, 7), (41, 7), (42, 7), (43, 7), (44, 7), (45, 7), (46, 7), (47, 7), (48, 7), (49, 7)]"
   ]
  },
  {
   "cell_type": "code",
   "execution_count": 13,
   "metadata": {},
   "outputs": [
    {
     "data": {
      "text/plain": [
       "[10,\n",
       " 11,\n",
       " 11,\n",
       " 11,\n",
       " 11,\n",
       " 11,\n",
       " 12,\n",
       " 12,\n",
       " 10,\n",
       " 8,\n",
       " 9,\n",
       " 9,\n",
       " 9,\n",
       " 7,\n",
       " 7,\n",
       " 7,\n",
       " 7,\n",
       " 7,\n",
       " 7,\n",
       " 7,\n",
       " 7,\n",
       " 7,\n",
       " 7,\n",
       " 7,\n",
       " 7,\n",
       " 7,\n",
       " 7,\n",
       " 7,\n",
       " 7,\n",
       " 7,\n",
       " 7,\n",
       " 7,\n",
       " 7,\n",
       " 7,\n",
       " 7,\n",
       " 7,\n",
       " 7,\n",
       " 7,\n",
       " 7,\n",
       " 7,\n",
       " 7,\n",
       " 7,\n",
       " 7,\n",
       " 7,\n",
       " 7,\n",
       " 7,\n",
       " 7,\n",
       " 7,\n",
       " 7,\n",
       " 7]"
      ]
     },
     "execution_count": 13,
     "metadata": {},
     "output_type": "execute_result"
    }
   ],
   "source": [
    "[x[1] for x in q]"
   ]
  },
  {
   "cell_type": "code",
   "execution_count": 5,
   "metadata": {},
   "outputs": [
    {
     "data": {
      "text/plain": [
       "74"
      ]
     },
     "execution_count": 5,
     "metadata": {},
     "output_type": "execute_result"
    }
   ],
   "source": [
    "names = list(range(0, 20))\n",
    "\n",
    "days = 2\n",
    "res = \n",
    "for i in range(days):\n",
    "    "
   ]
  },
  {
   "cell_type": "code",
   "execution_count": 16,
   "metadata": {},
   "outputs": [
    {
     "data": {
      "text/plain": [
       "[<matplotlib.lines.Line2D at 0x7f9493a42be0>]"
      ]
     },
     "execution_count": 16,
     "metadata": {},
     "output_type": "execute_result"
    },
    {
     "data": {
      "image/png": "[encoded data removed]",
      "text/plain": [
       "<Figure size 432x288 with 1 Axes>"
      ]
     },
     "metadata": {
      "needs_background": "light"
     },
     "output_type": "display_data"
    }
   ],
   "source": [
    "import matplotlib.pyplot as plt\n",
    "\n",
    "q = {0: 10, 1: 10, 2: 11, 3: 11, 4: 13, 5: 14, 6: 14, 7: 14, 8: 14, 9: 14, 10: 15, 11: 15, 12: 15, 13: 15, 14: 15, 15: 15, 16: 15, 17: 15, 18: 15, 19: 16, 20: 16, 21: 16, 22: 16, 23: 16, 24: 16, 25: 16, 26: 16, 27: 16, 28: 16, 29: 16, 30: 16, 31: 16, 32: 16, 33: 16, 34: 16, 35: 16, 36: 16, 37: 16, 38: 17, 39: 18, 40: 18, 41: 18, 42: 18, 43: 18, 44: 18, 45: 18, 46: 18, 47: 18, 48: 19, 49: 19, 50: 19, 51: 19, 52: 19, 53: 19, 54: 19, 55: 19, 56: 19, 57: 19, 58: 19, 59: 19, 60: 19, 61: 19, 62: 19, 63: 19, 64: 19, 65: 19, 66: 19, 67: 19, 68: 19, 69: 19, 70: 19, 71: 19, 72: 19, 73: 19, 74: 19, 75: 19, 76: 19, 77: 19, 78: 19, 79: 19, 80: 19, 81: 19, 82: 19, 83: 19, 84: 19, 85: 19, 86: 19, 87: 19, 88: 19, 89: 19, 90: 19, 91: 19, 92: 19, 93: 19, 94: 19, 95: 19, 96: 19, 97: 19, 98: 19, 99: 19}\n",
    "\n",
    "plt.plot(list(q.keys()), list(q.values()))"
   ]
  },
  {
   "cell_type": "code",
   "execution_count": 7,
   "metadata": {},
   "outputs": [],
   "source": [
    "from abc import ABC, abstractmethod\n",
    "\n",
    "class Infectable(ABC):\n",
    "    def __init__(self, strength=1.0, contag=1.0):\n",
    "        # contag is for contagiousness so we have less typos\n",
    "        self.strength = strength\n",
    "        self.contag = contag\n",
    "\n",
    "    @abstractmethod\n",
    "    def cause_symptoms(self, person):\n",
    "        pass\n",
    "    \n",
    "    \n",
    "class SeasonalFluVirus(Infectable):\n",
    "\n",
    "    def __init__(self, **kwargs):\n",
    "        super().__init__(**kwargs)\n",
    "        self.name= 'SeasonalFluVirus'\n",
    "\n",
    "    def cause_symptoms(self, person):\n",
    "        person.temperature += 0.25\n",
    "\n",
    "    def get_type(self):\n",
    "        return InfectableType.SeasonalFlu"
   ]
  },
  {
   "cell_type": "code",
   "execution_count": 10,
   "metadata": {},
   "outputs": [
    {
     "data": {
      "text/plain": [
       "5"
      ]
     },
     "execution_count": 10,
     "metadata": {},
     "output_type": "execute_result"
    }
   ],
   "source": [
    "x = SeasonalFluVirus(strength=5)\n",
    "x.strength"
   ]
  },
  {
   "cell_type": "code",
   "execution_count": 14,
   "metadata": {},
   "outputs": [],
   "source": [
    "from abc import ABC, abstractmethod\n",
    "\n",
    "class Person(ABC):\n",
    "    MAX_TEMPERATURE_TO_SURVIVE = 44.0\n",
    "    LOWEST_WATER_PCT_TO_SURVIVE = 0.4\n",
    "    \n",
    "    LIFE_THREATENING_TEMPERATURE = 40.0\n",
    "    LIFE_THREATENING_WATER_PCT = 0.5\n",
    "    \n",
    "    def __init__(self, home_position=(0, 0), age=30, weight=70, virus=None, name=None):\n",
    "        self.name = name\n",
    "        self.age = age\n",
    "        self.weight = weight\n",
    "        self.temperature = 36.6\n",
    "        self.water = 0.6 * self.weight\n",
    "        self.virus = virus\n",
    "        self.antibody_types = set()\n",
    "        self.home_position = home_position\n",
    "        self.position = home_position\n",
    "#         self.state = Healthy(self)\n",
    "    \n",
    "    @abstractmethod\n",
    "    def day_actions(self): pass\n",
    "\n",
    "    @abstractmethod\n",
    "    def night_actions(self): pass\n",
    "\n",
    "    @abstractmethod\n",
    "    def interact(self, other): pass\n",
    "\n",
    "    @abstractmethod\n",
    "    def get_infected(self, virus): pass\n",
    "    \n",
    "    def is_contacting(self, other):\n",
    "        return self.position == other.position\n",
    "    \n",
    "    @abstractmethod\n",
    "    def fight_virus(self): pass\n",
    "\n",
    "    @abstractmethod\n",
    "    def progress_disease(self): pass\n",
    "\n",
    "    @abstractmethod\n",
    "    def set_state(self, state): pass\n",
    "    \n",
    "    def is_life_threatening_condition(self):\n",
    "        return self.temperature >= Person.LIFE_THREATENING_TEMPERATURE or \\\n",
    "           self.water / self.weight <= Person.LIFE_THREATENING_WATER_PCT\n",
    "    \n",
    "    def is_life_incompatible_condition(self):        \n",
    "        return self.temperature >= Person.MAX_TEMPERATURE_TO_SURVIVE or \\\n",
    "            self.water / self.weight <= Person.LOWEST_WATER_PCT_TO_SURVIVE\n",
    "\n",
    "\n",
    "class DefaultPerson(Person):\n",
    "    \n",
    "    def day_actions(self):\n",
    "        self.state.day_actions()\n",
    "\n",
    "    def night_actions(self):\n",
    "        self.state.night_actions()\n",
    "\n",
    "    def interact(self, other):\n",
    "        self.state.interact(other)\n",
    "\n",
    "    def get_infected(self, virus):\n",
    "        self.state.get_infected(virus)\n",
    "    \n",
    "    def is_contacting(self, other):\n",
    "        return self.position == other.position\n",
    "    \n",
    "    def fight_virus(self):\n",
    "        if self.virus:\n",
    "            self.virus.strength -= (3.0 / self.age)\n",
    "        \n",
    "    def progress_disease(self):\n",
    "        if self.virus:\n",
    "            self.virus.cause_symptoms(self)\n",
    "\n",
    "    def set_state(self, state):\n",
    "        self.state = state\n",
    "\n",
    "class CommunityPerson(Person):\n",
    "\n",
    "    def __init__(self, community_position=(0, 0), **kwargs):\n",
    "        super().__init__(**kwargs)\n",
    "        self.community_position = community_position\n",
    "    \n",
    "    def day_actions(self):\n",
    "        self.state.day_actions()\n",
    "\n",
    "    def night_actions(self):\n",
    "        self.state.night_actions()\n",
    "\n",
    "    def interact(self, other):\n",
    "        self.state.interact(other)\n",
    "\n",
    "    def get_infected(self, virus):\n",
    "        self.state.get_infected(virus)\n",
    "    \n",
    "    def is_contacting(self, other):\n",
    "        return self.position == other.position\n",
    "    \n",
    "    def fight_virus(self):\n",
    "        if self.virus:\n",
    "            self.virus.strength -= (3.0 / self.age)\n",
    "        \n",
    "    def progress_disease(self):\n",
    "        if self.virus:\n",
    "            self.virus.cause_symptoms(self)\n",
    "\n",
    "    def set_state(self, state):\n",
    "        self.state = state\n"
   ]
  },
  {
   "cell_type": "code",
   "execution_count": 15,
   "metadata": {},
   "outputs": [],
   "source": [
    "x = DefaultPerson()"
   ]
  },
  {
   "cell_type": "code",
   "execution_count": 17,
   "metadata": {},
   "outputs": [
    {
     "data": {
      "text/plain": [
       "__main__.DefaultPerson"
      ]
     },
     "execution_count": 17,
     "metadata": {},
     "output_type": "execute_result"
    }
   ],
   "source": [
    "type(x)"
   ]
  },
  {
   "cell_type": "code",
   "execution_count": 19,
   "metadata": {},
   "outputs": [
    {
     "data": {
      "text/plain": [
       "True"
      ]
     },
     "execution_count": 19,
     "metadata": {},
     "output_type": "execute_result"
    }
   ],
   "source": [
    "isinstance(x, DefaultPerson)"
   ]
  },
  {
   "cell_type": "code",
   "execution_count": null,
   "metadata": {},
   "outputs": [],
   "source": []
  }
 ],
 "metadata": {
  "kernelspec": {
   "display_name": "Python 3",
   "language": "python",
   "name": "python3"
  },
  "language_info": {
   "codemirror_mode": {
    "name": "ipython",
    "version": 3
   },
   "file_extension": ".py",
   "mimetype": "text/x-python",
   "name": "python",
   "nbconvert_exporter": "python",
   "pygments_lexer": "ipython3",
   "version": "3.6.9"
  }
 },
 "nbformat": 4,
 "nbformat_minor": 2
}
